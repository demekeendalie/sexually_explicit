{
  "nbformat": 4,
  "nbformat_minor": 0,
  "metadata": {
    "colab": {
      "provenance": [],
      "authorship_tag": "ABX9TyM1KXFzVosQHhqG7GDkkv9T",
      "include_colab_link": true
    },
    "kernelspec": {
      "name": "python3",
      "display_name": "Python 3"
    },
    "language_info": {
      "name": "python"
    }
  },
  "cells": [
    {
      "cell_type": "markdown",
      "metadata": {
        "id": "view-in-github",
        "colab_type": "text"
      },
      "source": [
        "<a href=\"https://colab.research.google.com/github/demekeendalie/sexually_explicit/blob/main/sexually_explicit_comment_classification_using_CNN.ipynb\" target=\"_parent\"><img src=\"https://colab.research.google.com/assets/colab-badge.svg\" alt=\"Open In Colab\"/></a>"
      ]
    },
    {
      "cell_type": "code",
      "execution_count": null,
      "metadata": {
        "id": "VKSg-NYbjnkt"
      },
      "outputs": [],
      "source": [
        "import pandas as pd\n",
        "import numpy as np\n",
        "import matplotlib.pyplot as plt"
      ]
    },
    {
      "cell_type": "code",
      "source": [
        "# mounting the drive\n",
        "from google.colab import drive\n",
        "drive.mount('/content/drive')"
      ],
      "metadata": {
        "colab": {
          "base_uri": "https://localhost:8080/"
        },
        "id": "JdlXESMqj9sw",
        "outputId": "9aec8010-1553-4899-8c02-234a5ca086d8"
      },
      "execution_count": null,
      "outputs": [
        {
          "output_type": "stream",
          "name": "stdout",
          "text": [
            "Mounted at /content/drive\n"
          ]
        }
      ]
    },
    {
      "cell_type": "code",
      "source": [
        "# reading the two files from MyDrive of the mounted drive\n",
        "harashment=pd.read_excel('/content/drive/MyDrive/harashment.xlsx')# sexually expilict Amharic comments\n",
        "normal=pd.read_excel('/content/drive/MyDrive/Normal comments.xlsx')# normal Amharic comments"
      ],
      "metadata": {
        "id": "mhFSOcLfkSOt"
      },
      "execution_count": null,
      "outputs": []
    },
    {
      "cell_type": "code",
      "source": [
        "#taking the two frames as one dataframe data(appending)\n",
        "data = pd.concat([harashment, normal], ignore_index=True)\n",
        "#data=data[['comments','label']]\n",
        "data=data.sample(frac=1).reset_index(drop=True)\n",
        "print(data.tail())"
      ],
      "metadata": {
        "colab": {
          "base_uri": "https://localhost:8080/"
        },
        "id": "IZA8dJmyke2z",
        "outputId": "4a5a19d4-6e1e-46b5-95aa-2da872a35551"
      },
      "execution_count": null,
      "outputs": [
        {
          "output_type": "stream",
          "name": "stdout",
          "text": [
            "                                                comments  label\n",
            "34707  ልጅቷ እየካደች ባለው ፊልም አዳራሽ ውስጥ የሆነ አይነት ትንኮሳ ታዝቢያለ...      1\n",
            "34708   ሁሉንም የቆሸሹ ሚስጥሮችህን መስማት እፈልጋለሁ።\\nአንተ የእኔ ተወዳጅ ...      1\n",
            "34709  ጎሽ ጥሩ ነዋ ይሄ ሁሉ ከሰጡ ምን ቀረ ታዲያ ክሀገር በምን አወክ ይሄ ሁ...      1\n",
            "34710  በሁለታችሁ ያለዉ ልዮነት መምህር ምረታብ ሁልጊዜ የእግዛብሄርን ቃል እሚሰ...      0\n",
            "34711  እሬቻ በአልም ሀይማኖታዊም ባህላዊም ፖለቲካዊ ይዘት አለው ምን ታደርገዋለ...      0\n"
          ]
        }
      ]
    },
    {
      "cell_type": "code",
      "source": [
        "#knowing the size of each categories\n",
        "harassed=data[data['label']==1]\n",
        "normal=data[data['label']==0]\n",
        "print(harassed.shape)\n",
        "print(normal.shape)"
      ],
      "metadata": {
        "colab": {
          "base_uri": "https://localhost:8080/"
        },
        "id": "tkRGRH3oklzU",
        "outputId": "4c0f54eb-9810-4ada-b827-099fc356fea6"
      },
      "execution_count": null,
      "outputs": [
        {
          "output_type": "stream",
          "name": "stdout",
          "text": [
            "(17200, 2)\n",
            "(17512, 2)\n"
          ]
        }
      ]
    },
    {
      "cell_type": "code",
      "source": [
        "#removing rows having an empty cells\n",
        "data=data.dropna()\n",
        "data.shape"
      ],
      "metadata": {
        "colab": {
          "base_uri": "https://localhost:8080/"
        },
        "id": "E7eGG0TFkvfx",
        "outputId": "9f3806b4-4939-4f74-94ba-cfffa77ced69"
      },
      "execution_count": null,
      "outputs": [
        {
          "output_type": "execute_result",
          "data": {
            "text/plain": [
              "(34710, 2)"
            ]
          },
          "metadata": {},
          "execution_count": 6
        }
      ]
    },
    {
      "cell_type": "code",
      "source": [
        "data['word_len'] = data['comments'].str.split().str.len()\n",
        "print(data['word_len'].max())"
      ],
      "metadata": {
        "colab": {
          "base_uri": "https://localhost:8080/"
        },
        "id": "tfERAWGik0j2",
        "outputId": "554b3cd3-710c-4082-df13-18dcf545bd5a"
      },
      "execution_count": null,
      "outputs": [
        {
          "output_type": "stream",
          "name": "stdout",
          "text": [
            "618.0\n"
          ]
        }
      ]
    },
    {
      "cell_type": "code",
      "source": [
        "# pre-processing of the dataset\n",
        "#normalizarion\n",
        "import re\n",
        "#method to normalize character level missmatch such as ጸሀይ and ፀሐይ\n",
        "def normalization(input_token):\n",
        "    rep1=re.sub('[ሃኅኃሐሓኻ]','ሀ',input_token)\n",
        "    rep2=re.sub('[ሑኁዅ]','ሁ',rep1)\n",
        "    rep3=re.sub('[ኂሒኺ]','ሂ',rep2)\n",
        "    rep4=re.sub('[ኌሔዄ]','ሄ',rep3)\n",
        "    rep5=re.sub('[ሕኅ]','ህ',rep4)\n",
        "    rep6=re.sub('[ኆሖኾ]','ሆ',rep5)\n",
        "    rep7=re.sub('[ሠ]','ሰ',rep6)\n",
        "    rep8=re.sub('[ሡ]','ሱ',rep7)\n",
        "    rep9=re.sub('[ሢ]','ሲ',rep8)\n",
        "    rep10=re.sub('[ሣ]','ሳ',rep9)\n",
        "    rep11=re.sub('[ሤ]','ሴ',rep10)\n",
        "    rep12=re.sub('[ሥ]','ስ',rep11)\n",
        "    rep13=re.sub('[ሦ]','ሶ',rep12)\n",
        "    rep14=re.sub('[ዓኣዐ]','አ',rep13)\n",
        "    rep15=re.sub('[ዑ]','ኡ',rep14)\n",
        "    rep16=re.sub('[ዒ]','ኢ',rep15)\n",
        "    rep17=re.sub('[ዔ]','ኤ',rep16)\n",
        "    rep18=re.sub('[ዕ]','እ',rep17)\n",
        "    rep19=re.sub('[ዖ]','ኦ',rep18)\n",
        "    rep20=re.sub('[ጸ]','ፀ',rep19)\n",
        "    rep21=re.sub('[ጹ]','ፁ',rep20)\n",
        "    rep22=re.sub('[ጺ]','ፂ',rep21)\n",
        "    rep23=re.sub('[ጻ]','ፃ',rep22)\n",
        "    rep24=re.sub('[ጼ]','ፄ',rep23)\n",
        "    rep25=re.sub('[ጽ]','ፅ',rep24)\n",
        "    rep26=re.sub('[ጾ]','ፆ',rep25)\n",
        "    rep27=re.sub('(ሉ[ዋአ])','ሏ',rep26)\n",
        "    rep28=re.sub('(ሙ[ዋአ])','ሟ',rep27)\n",
        "    rep29=re.sub('(ቱ[ዋአ])','ቷ',rep28)\n",
        "    rep30=re.sub('(ሩ[ዋአ])','ሯ',rep29)\n",
        "    rep31=re.sub('(ሱ[ዋአ])','ሷ',rep30)\n",
        "    rep32=re.sub('(ሹ[ዋአ])','ሿ',rep31)\n",
        "    rep33=re.sub('(ቁ[ዋአ])','ቋ',rep32)\n",
        "    rep34=re.sub('(ቡ[ዋአ])','ቧ',rep33)\n",
        "    rep35=re.sub('(ቹ[ዋአ])','ቿ',rep34)\n",
        "    rep36=re.sub('(ሁ[ዋአ])','ኋ',rep35)\n",
        "    rep37=re.sub('(ኑ[ዋአ])','ኗ',rep36)\n",
        "    rep38=re.sub('(ኙ[ዋአ])','ኟ',rep37)\n",
        "    rep39=re.sub('(ኩ[ዋአ])','ኳ',rep38)\n",
        "    rep40=re.sub('(ዙ[ዋአ])','ዟ',rep39)\n",
        "    rep41=re.sub('(ጉ[ዋአ])','ጓ',rep40)\n",
        "    rep42=re.sub('(ደ[ዋአ])','ዷ',rep41)\n",
        "    rep43=re.sub('(ጡ[ዋአ])','ጧ',rep42)\n",
        "    rep44=re.sub('(ጩ[ዋአ])','ጯ',rep43)\n",
        "    rep45=re.sub('(ጹ[ዋአ])','ጿ',rep44)\n",
        "    rep46=re.sub('(ፉ[ዋአ])','ፏ',rep45)\n",
        "    rep47=re.sub('[ቊ]','ቁ',rep46) #ቁ can be written as ቊ\n",
        "    rep48=re.sub('[ኵ]','ኩ',rep47) #ኩ can be also written as ኵ\n",
        "    return rep48"
      ],
      "metadata": {
        "id": "lkt7zVi9k8mD"
      },
      "execution_count": null,
      "outputs": []
    },
    {
      "cell_type": "code",
      "source": [
        "#normalization of Amharic characters having the same sound and meaning\n",
        "data['comments'] = data['comments'].astype(str)\n",
        "data['comments']=data['comments'].apply(lambda x: normalization(x))"
      ],
      "metadata": {
        "id": "BvXj9EdllLBB"
      },
      "execution_count": null,
      "outputs": []
    },
    {
      "cell_type": "code",
      "source": [
        "#pre-processing function\n",
        "def remove_non_amharic(text):\n",
        "  # Define a regex pattern for Amharic characters (Unicode range)\n",
        "    amharic_pattern = r'[^\\u1200-\\u137F\\s]'  # Unicode range for Amharic characters\n",
        "    amharic_pattern=r'[\\u1200-\\u137F]*[0-9]+[\\u1200-\\u137F]*'#removing digits\n",
        "    amharic_pattern = r'[፡-፨]'  # Unicode range for Amharic punctuation marks\n",
        "    amharic_pattern=r'[^\\w\\s]'# removing white spaces\n",
        "    # Use re.sub to replace non-Amharic characters with an empty string\n",
        "    cleaned_text = re.sub(amharic_pattern, '', text)\n",
        "    return cleaned_text"
      ],
      "metadata": {
        "id": "sNCxYETJlUb9"
      },
      "execution_count": null,
      "outputs": []
    },
    {
      "cell_type": "code",
      "source": [
        "# processing the data such as removing non-Amharic characters, digit,punctuation marks\n",
        "data['comments']=data['comments'].apply(remove_non_amharic)\n",
        "data.tail(20)"
      ],
      "metadata": {
        "colab": {
          "base_uri": "https://localhost:8080/",
          "height": 676
        },
        "id": "WYJJuug7ldFp",
        "outputId": "526fc289-7fcd-413d-a2fe-f07b4345aae3"
      },
      "execution_count": null,
      "outputs": [
        {
          "output_type": "execute_result",
          "data": {
            "text/plain": [
              "                                                comments  label  word_len\n",
              "34692    አብን መሰለኝ አብይ ያሻግረናል ምንም የሽግግር መንግስት አያስፈልግም ያለው      0       9.0\n",
              "34693  የእኔ የስራ አካባቢ ዳይሬክተር ወደ እኔ እየመጣ ነው እና እኔ  ፈቃደኛለ...      1      75.0\n",
              "34694           Me እንዴት አደራቹ ኞች ኞች ማነዉ ተኝተዉ ነዉ ሚያድሩት ያለህ      0      10.0\n",
              "34695  ያ ቦታ አክሱም የግድ ነው አለ  ሀይልሻ የቢዝነስ ሰው ነህ እናውቃለን ከ...      0      22.0\n",
              "34696                                     ያለከው ልጅ ሰላም ነው      0       4.0\n",
              "34697  እኛ ሶስት ሴቶች መንገዱን ስናቋርጥ ወደ ስምንት በሚጠጉ ወንዶች የተሞላ ...      1      58.0\n",
              "34698  ክላሽ አያረግም ለትግራይ ህዝብ ክብር እና ነፃነት የሚዋደቁትን ማክበር እ...      0      17.0\n",
              "34699  ብዙ ነገሮችን ብለሀ ገብርዬ  ስሜት ኮርኮሪ አነቃቂ መክር አዘል አቅጣጫ ...      1      27.0\n",
              "34700  በየቀኑ ሴሰኝነት አንድ አዛውንት ነጭ ሰው በስራ ቦታ ላይ ጥያቄ ይጠይቁኛ...      1      52.0\n",
              "34701  ይህ ማሻሻያ አዋጅ ሰራ ላይ ሳይውል ሌላ ደንብ እንዳይወጣ የእኛ ሀገር ተ...      0      14.0\n",
              "34702               የአማራ ህዝብ አንገቱን ይዞ ካለበት ለህግ ማቅረብ አለበት      0       8.0\n",
              "34703                          መሆን ያለበትና ትክክለኛው ይህ ብቻ ነው      0       6.0\n",
              "34704  የዝናብ ዳንስ ፓርቲ ለመንካት የሚሞክር ሰው አመሻሹን ተከትሎ አስተያየት ...      1      10.0\n",
              "34705  አንድ አዛውንት አንጓዬን ያዙ እና ወደ ቤት ስመለስ የወሲብ ውለታዎችን መ...      1      21.0\n",
              "34706  መቼ እለት ደሞ ደብረታቦር ላይ ፃድቃንና ጌታቸው ተቆርጠዋል በለው ነበር ...      0      12.0\n",
              "34707  ልጅቷ እየካደች ባለው ፊልም አዳራሽ ውስጥ የሆነ አይነት ትንኮሳ ታዝቢያለ...      1      16.0\n",
              "34708   ሁሉንም የቆሸሹ ሚስጥሮችህን መስማት እፈልጋለሁ\\nአንተ የእኔ ተወዳጅ ቅ...      1      10.0\n",
              "34709  ጎሽ ጥሩ ነዋ ይሄ ሁሉ ከሰጡ ምን ቀረ ታዲያ ክሀገር በምን አወክ ይሄ ሁ...      1      22.0\n",
              "34710  በሁለታችሁ ያለዉ ልዮነት መምህር ምረታብ ሁልጊዜ የእግዛብሄርን ቃል እሚሰ...      0      45.0\n",
              "34711  እሬቻ በአልም ሀይማኖታዊም ባህላዊም ፖለቲካዊ ይዘት አለው ምን ታደርገዋለ...      0      33.0"
            ],
            "text/html": [
              "\n",
              "  <div id=\"df-f2b46c85-a771-42d1-a674-cb2176e34d01\" class=\"colab-df-container\">\n",
              "    <div>\n",
              "<style scoped>\n",
              "    .dataframe tbody tr th:only-of-type {\n",
              "        vertical-align: middle;\n",
              "    }\n",
              "\n",
              "    .dataframe tbody tr th {\n",
              "        vertical-align: top;\n",
              "    }\n",
              "\n",
              "    .dataframe thead th {\n",
              "        text-align: right;\n",
              "    }\n",
              "</style>\n",
              "<table border=\"1\" class=\"dataframe\">\n",
              "  <thead>\n",
              "    <tr style=\"text-align: right;\">\n",
              "      <th></th>\n",
              "      <th>comments</th>\n",
              "      <th>label</th>\n",
              "      <th>word_len</th>\n",
              "    </tr>\n",
              "  </thead>\n",
              "  <tbody>\n",
              "    <tr>\n",
              "      <th>34692</th>\n",
              "      <td>አብን መሰለኝ አብይ ያሻግረናል ምንም የሽግግር መንግስት አያስፈልግም ያለው</td>\n",
              "      <td>0</td>\n",
              "      <td>9.0</td>\n",
              "    </tr>\n",
              "    <tr>\n",
              "      <th>34693</th>\n",
              "      <td>የእኔ የስራ አካባቢ ዳይሬክተር ወደ እኔ እየመጣ ነው እና እኔ  ፈቃደኛለ...</td>\n",
              "      <td>1</td>\n",
              "      <td>75.0</td>\n",
              "    </tr>\n",
              "    <tr>\n",
              "      <th>34694</th>\n",
              "      <td>Me እንዴት አደራቹ ኞች ኞች ማነዉ ተኝተዉ ነዉ ሚያድሩት ያለህ</td>\n",
              "      <td>0</td>\n",
              "      <td>10.0</td>\n",
              "    </tr>\n",
              "    <tr>\n",
              "      <th>34695</th>\n",
              "      <td>ያ ቦታ አክሱም የግድ ነው አለ  ሀይልሻ የቢዝነስ ሰው ነህ እናውቃለን ከ...</td>\n",
              "      <td>0</td>\n",
              "      <td>22.0</td>\n",
              "    </tr>\n",
              "    <tr>\n",
              "      <th>34696</th>\n",
              "      <td>ያለከው ልጅ ሰላም ነው</td>\n",
              "      <td>0</td>\n",
              "      <td>4.0</td>\n",
              "    </tr>\n",
              "    <tr>\n",
              "      <th>34697</th>\n",
              "      <td>እኛ ሶስት ሴቶች መንገዱን ስናቋርጥ ወደ ስምንት በሚጠጉ ወንዶች የተሞላ ...</td>\n",
              "      <td>1</td>\n",
              "      <td>58.0</td>\n",
              "    </tr>\n",
              "    <tr>\n",
              "      <th>34698</th>\n",
              "      <td>ክላሽ አያረግም ለትግራይ ህዝብ ክብር እና ነፃነት የሚዋደቁትን ማክበር እ...</td>\n",
              "      <td>0</td>\n",
              "      <td>17.0</td>\n",
              "    </tr>\n",
              "    <tr>\n",
              "      <th>34699</th>\n",
              "      <td>ብዙ ነገሮችን ብለሀ ገብርዬ  ስሜት ኮርኮሪ አነቃቂ መክር አዘል አቅጣጫ ...</td>\n",
              "      <td>1</td>\n",
              "      <td>27.0</td>\n",
              "    </tr>\n",
              "    <tr>\n",
              "      <th>34700</th>\n",
              "      <td>በየቀኑ ሴሰኝነት አንድ አዛውንት ነጭ ሰው በስራ ቦታ ላይ ጥያቄ ይጠይቁኛ...</td>\n",
              "      <td>1</td>\n",
              "      <td>52.0</td>\n",
              "    </tr>\n",
              "    <tr>\n",
              "      <th>34701</th>\n",
              "      <td>ይህ ማሻሻያ አዋጅ ሰራ ላይ ሳይውል ሌላ ደንብ እንዳይወጣ የእኛ ሀገር ተ...</td>\n",
              "      <td>0</td>\n",
              "      <td>14.0</td>\n",
              "    </tr>\n",
              "    <tr>\n",
              "      <th>34702</th>\n",
              "      <td>የአማራ ህዝብ አንገቱን ይዞ ካለበት ለህግ ማቅረብ አለበት</td>\n",
              "      <td>0</td>\n",
              "      <td>8.0</td>\n",
              "    </tr>\n",
              "    <tr>\n",
              "      <th>34703</th>\n",
              "      <td>መሆን ያለበትና ትክክለኛው ይህ ብቻ ነው</td>\n",
              "      <td>0</td>\n",
              "      <td>6.0</td>\n",
              "    </tr>\n",
              "    <tr>\n",
              "      <th>34704</th>\n",
              "      <td>የዝናብ ዳንስ ፓርቲ ለመንካት የሚሞክር ሰው አመሻሹን ተከትሎ አስተያየት ...</td>\n",
              "      <td>1</td>\n",
              "      <td>10.0</td>\n",
              "    </tr>\n",
              "    <tr>\n",
              "      <th>34705</th>\n",
              "      <td>አንድ አዛውንት አንጓዬን ያዙ እና ወደ ቤት ስመለስ የወሲብ ውለታዎችን መ...</td>\n",
              "      <td>1</td>\n",
              "      <td>21.0</td>\n",
              "    </tr>\n",
              "    <tr>\n",
              "      <th>34706</th>\n",
              "      <td>መቼ እለት ደሞ ደብረታቦር ላይ ፃድቃንና ጌታቸው ተቆርጠዋል በለው ነበር ...</td>\n",
              "      <td>0</td>\n",
              "      <td>12.0</td>\n",
              "    </tr>\n",
              "    <tr>\n",
              "      <th>34707</th>\n",
              "      <td>ልጅቷ እየካደች ባለው ፊልም አዳራሽ ውስጥ የሆነ አይነት ትንኮሳ ታዝቢያለ...</td>\n",
              "      <td>1</td>\n",
              "      <td>16.0</td>\n",
              "    </tr>\n",
              "    <tr>\n",
              "      <th>34708</th>\n",
              "      <td>ሁሉንም የቆሸሹ ሚስጥሮችህን መስማት እፈልጋለሁ\\nአንተ የእኔ ተወዳጅ ቅ...</td>\n",
              "      <td>1</td>\n",
              "      <td>10.0</td>\n",
              "    </tr>\n",
              "    <tr>\n",
              "      <th>34709</th>\n",
              "      <td>ጎሽ ጥሩ ነዋ ይሄ ሁሉ ከሰጡ ምን ቀረ ታዲያ ክሀገር በምን አወክ ይሄ ሁ...</td>\n",
              "      <td>1</td>\n",
              "      <td>22.0</td>\n",
              "    </tr>\n",
              "    <tr>\n",
              "      <th>34710</th>\n",
              "      <td>በሁለታችሁ ያለዉ ልዮነት መምህር ምረታብ ሁልጊዜ የእግዛብሄርን ቃል እሚሰ...</td>\n",
              "      <td>0</td>\n",
              "      <td>45.0</td>\n",
              "    </tr>\n",
              "    <tr>\n",
              "      <th>34711</th>\n",
              "      <td>እሬቻ በአልም ሀይማኖታዊም ባህላዊም ፖለቲካዊ ይዘት አለው ምን ታደርገዋለ...</td>\n",
              "      <td>0</td>\n",
              "      <td>33.0</td>\n",
              "    </tr>\n",
              "  </tbody>\n",
              "</table>\n",
              "</div>\n",
              "    <div class=\"colab-df-buttons\">\n",
              "\n",
              "  <div class=\"colab-df-container\">\n",
              "    <button class=\"colab-df-convert\" onclick=\"convertToInteractive('df-f2b46c85-a771-42d1-a674-cb2176e34d01')\"\n",
              "            title=\"Convert this dataframe to an interactive table.\"\n",
              "            style=\"display:none;\">\n",
              "\n",
              "  <svg xmlns=\"http://www.w3.org/2000/svg\" height=\"24px\" viewBox=\"0 -960 960 960\">\n",
              "    <path d=\"M120-120v-720h720v720H120Zm60-500h600v-160H180v160Zm220 220h160v-160H400v160Zm0 220h160v-160H400v160ZM180-400h160v-160H180v160Zm440 0h160v-160H620v160ZM180-180h160v-160H180v160Zm440 0h160v-160H620v160Z\"/>\n",
              "  </svg>\n",
              "    </button>\n",
              "\n",
              "  <style>\n",
              "    .colab-df-container {\n",
              "      display:flex;\n",
              "      gap: 12px;\n",
              "    }\n",
              "\n",
              "    .colab-df-convert {\n",
              "      background-color: #E8F0FE;\n",
              "      border: none;\n",
              "      border-radius: 50%;\n",
              "      cursor: pointer;\n",
              "      display: none;\n",
              "      fill: #1967D2;\n",
              "      height: 32px;\n",
              "      padding: 0 0 0 0;\n",
              "      width: 32px;\n",
              "    }\n",
              "\n",
              "    .colab-df-convert:hover {\n",
              "      background-color: #E2EBFA;\n",
              "      box-shadow: 0px 1px 2px rgba(60, 64, 67, 0.3), 0px 1px 3px 1px rgba(60, 64, 67, 0.15);\n",
              "      fill: #174EA6;\n",
              "    }\n",
              "\n",
              "    .colab-df-buttons div {\n",
              "      margin-bottom: 4px;\n",
              "    }\n",
              "\n",
              "    [theme=dark] .colab-df-convert {\n",
              "      background-color: #3B4455;\n",
              "      fill: #D2E3FC;\n",
              "    }\n",
              "\n",
              "    [theme=dark] .colab-df-convert:hover {\n",
              "      background-color: #434B5C;\n",
              "      box-shadow: 0px 1px 3px 1px rgba(0, 0, 0, 0.15);\n",
              "      filter: drop-shadow(0px 1px 2px rgba(0, 0, 0, 0.3));\n",
              "      fill: #FFFFFF;\n",
              "    }\n",
              "  </style>\n",
              "\n",
              "    <script>\n",
              "      const buttonEl =\n",
              "        document.querySelector('#df-f2b46c85-a771-42d1-a674-cb2176e34d01 button.colab-df-convert');\n",
              "      buttonEl.style.display =\n",
              "        google.colab.kernel.accessAllowed ? 'block' : 'none';\n",
              "\n",
              "      async function convertToInteractive(key) {\n",
              "        const element = document.querySelector('#df-f2b46c85-a771-42d1-a674-cb2176e34d01');\n",
              "        const dataTable =\n",
              "          await google.colab.kernel.invokeFunction('convertToInteractive',\n",
              "                                                    [key], {});\n",
              "        if (!dataTable) return;\n",
              "\n",
              "        const docLinkHtml = 'Like what you see? Visit the ' +\n",
              "          '<a target=\"_blank\" href=https://colab.research.google.com/notebooks/data_table.ipynb>data table notebook</a>'\n",
              "          + ' to learn more about interactive tables.';\n",
              "        element.innerHTML = '';\n",
              "        dataTable['output_type'] = 'display_data';\n",
              "        await google.colab.output.renderOutput(dataTable, element);\n",
              "        const docLink = document.createElement('div');\n",
              "        docLink.innerHTML = docLinkHtml;\n",
              "        element.appendChild(docLink);\n",
              "      }\n",
              "    </script>\n",
              "  </div>\n",
              "\n",
              "\n",
              "<div id=\"df-ffa1a490-2018-4093-a193-5b57e0bfe104\">\n",
              "  <button class=\"colab-df-quickchart\" onclick=\"quickchart('df-ffa1a490-2018-4093-a193-5b57e0bfe104')\"\n",
              "            title=\"Suggest charts\"\n",
              "            style=\"display:none;\">\n",
              "\n",
              "<svg xmlns=\"http://www.w3.org/2000/svg\" height=\"24px\"viewBox=\"0 0 24 24\"\n",
              "     width=\"24px\">\n",
              "    <g>\n",
              "        <path d=\"M19 3H5c-1.1 0-2 .9-2 2v14c0 1.1.9 2 2 2h14c1.1 0 2-.9 2-2V5c0-1.1-.9-2-2-2zM9 17H7v-7h2v7zm4 0h-2V7h2v10zm4 0h-2v-4h2v4z\"/>\n",
              "    </g>\n",
              "</svg>\n",
              "  </button>\n",
              "\n",
              "<style>\n",
              "  .colab-df-quickchart {\n",
              "      --bg-color: #E8F0FE;\n",
              "      --fill-color: #1967D2;\n",
              "      --hover-bg-color: #E2EBFA;\n",
              "      --hover-fill-color: #174EA6;\n",
              "      --disabled-fill-color: #AAA;\n",
              "      --disabled-bg-color: #DDD;\n",
              "  }\n",
              "\n",
              "  [theme=dark] .colab-df-quickchart {\n",
              "      --bg-color: #3B4455;\n",
              "      --fill-color: #D2E3FC;\n",
              "      --hover-bg-color: #434B5C;\n",
              "      --hover-fill-color: #FFFFFF;\n",
              "      --disabled-bg-color: #3B4455;\n",
              "      --disabled-fill-color: #666;\n",
              "  }\n",
              "\n",
              "  .colab-df-quickchart {\n",
              "    background-color: var(--bg-color);\n",
              "    border: none;\n",
              "    border-radius: 50%;\n",
              "    cursor: pointer;\n",
              "    display: none;\n",
              "    fill: var(--fill-color);\n",
              "    height: 32px;\n",
              "    padding: 0;\n",
              "    width: 32px;\n",
              "  }\n",
              "\n",
              "  .colab-df-quickchart:hover {\n",
              "    background-color: var(--hover-bg-color);\n",
              "    box-shadow: 0 1px 2px rgba(60, 64, 67, 0.3), 0 1px 3px 1px rgba(60, 64, 67, 0.15);\n",
              "    fill: var(--button-hover-fill-color);\n",
              "  }\n",
              "\n",
              "  .colab-df-quickchart-complete:disabled,\n",
              "  .colab-df-quickchart-complete:disabled:hover {\n",
              "    background-color: var(--disabled-bg-color);\n",
              "    fill: var(--disabled-fill-color);\n",
              "    box-shadow: none;\n",
              "  }\n",
              "\n",
              "  .colab-df-spinner {\n",
              "    border: 2px solid var(--fill-color);\n",
              "    border-color: transparent;\n",
              "    border-bottom-color: var(--fill-color);\n",
              "    animation:\n",
              "      spin 1s steps(1) infinite;\n",
              "  }\n",
              "\n",
              "  @keyframes spin {\n",
              "    0% {\n",
              "      border-color: transparent;\n",
              "      border-bottom-color: var(--fill-color);\n",
              "      border-left-color: var(--fill-color);\n",
              "    }\n",
              "    20% {\n",
              "      border-color: transparent;\n",
              "      border-left-color: var(--fill-color);\n",
              "      border-top-color: var(--fill-color);\n",
              "    }\n",
              "    30% {\n",
              "      border-color: transparent;\n",
              "      border-left-color: var(--fill-color);\n",
              "      border-top-color: var(--fill-color);\n",
              "      border-right-color: var(--fill-color);\n",
              "    }\n",
              "    40% {\n",
              "      border-color: transparent;\n",
              "      border-right-color: var(--fill-color);\n",
              "      border-top-color: var(--fill-color);\n",
              "    }\n",
              "    60% {\n",
              "      border-color: transparent;\n",
              "      border-right-color: var(--fill-color);\n",
              "    }\n",
              "    80% {\n",
              "      border-color: transparent;\n",
              "      border-right-color: var(--fill-color);\n",
              "      border-bottom-color: var(--fill-color);\n",
              "    }\n",
              "    90% {\n",
              "      border-color: transparent;\n",
              "      border-bottom-color: var(--fill-color);\n",
              "    }\n",
              "  }\n",
              "</style>\n",
              "\n",
              "  <script>\n",
              "    async function quickchart(key) {\n",
              "      const quickchartButtonEl =\n",
              "        document.querySelector('#' + key + ' button');\n",
              "      quickchartButtonEl.disabled = true;  // To prevent multiple clicks.\n",
              "      quickchartButtonEl.classList.add('colab-df-spinner');\n",
              "      try {\n",
              "        const charts = await google.colab.kernel.invokeFunction(\n",
              "            'suggestCharts', [key], {});\n",
              "      } catch (error) {\n",
              "        console.error('Error during call to suggestCharts:', error);\n",
              "      }\n",
              "      quickchartButtonEl.classList.remove('colab-df-spinner');\n",
              "      quickchartButtonEl.classList.add('colab-df-quickchart-complete');\n",
              "    }\n",
              "    (() => {\n",
              "      let quickchartButtonEl =\n",
              "        document.querySelector('#df-ffa1a490-2018-4093-a193-5b57e0bfe104 button');\n",
              "      quickchartButtonEl.style.display =\n",
              "        google.colab.kernel.accessAllowed ? 'block' : 'none';\n",
              "    })();\n",
              "  </script>\n",
              "</div>\n",
              "\n",
              "    </div>\n",
              "  </div>\n"
            ],
            "application/vnd.google.colaboratory.intrinsic+json": {
              "type": "dataframe",
              "summary": "{\n  \"name\": \"data\",\n  \"rows\": 20,\n  \"fields\": [\n    {\n      \"column\": \"comments\",\n      \"properties\": {\n        \"dtype\": \"string\",\n        \"num_unique_values\": 20,\n        \"samples\": [\n          \"\\u12a0\\u1265\\u1295 \\u1218\\u1230\\u1208\\u129d \\u12a0\\u1265\\u12ed \\u12eb\\u123b\\u130d\\u1228\\u1293\\u120d \\u121d\\u1295\\u121d \\u12e8\\u123d\\u130d\\u130d\\u122d \\u1218\\u1295\\u130d\\u1235\\u1275 \\u12a0\\u12eb\\u1235\\u1348\\u120d\\u130d\\u121d \\u12eb\\u1208\\u12cd\",\n          \"\\u130e\\u123d \\u1325\\u1229 \\u1290\\u12cb \\u12ed\\u1204 \\u1201\\u1209 \\u12a8\\u1230\\u1321 \\u121d\\u1295 \\u1240\\u1228 \\u1273\\u12f2\\u12eb \\u12ad\\u1200\\u1308\\u122d \\u1260\\u121d\\u1295 \\u12a0\\u12c8\\u12ad \\u12ed\\u1204 \\u1201\\u1209 \\u12a6\\u122e\\u121e\\u12ce\\u127d \\u1218\\u1206\\u1293\\u1278\\u12cd\\u1295 \\u12ed\\u1308\\u122d\\u121b\\u120d \\u12d8\\u122d \\u1241\\u1320\\u122d \\u1260 \\u12ad\\u12d8\\u1218\\u1295 \\u1320\\u1263\\u1265\",\n          \"\\u120d\\u1305\\u1277 \\u12a5\\u12e8\\u12ab\\u12f0\\u127d \\u1263\\u1208\\u12cd \\u134a\\u120d\\u121d \\u12a0\\u12f3\\u122b\\u123d \\u12cd\\u1235\\u1325 \\u12e8\\u1206\\u1290 \\u12a0\\u12ed\\u1290\\u1275 \\u1275\\u1295\\u12ae\\u1233 \\u1273\\u12dd\\u1262\\u12eb\\u1208\\u1201 \\u1290\\u1308\\u122d \\u130d\\u1295 \\u1230\\u12cd\\u12ec\\u12cd \\u1260\\u1200\\u12ed\\u120d \\u12a5\\u12e8\\u1290\\u12ab\\u12ab\\u1275 \\u1290\\u1260\\u122d\"\n        ],\n        \"semantic_type\": \"\",\n        \"description\": \"\"\n      }\n    },\n    {\n      \"column\": \"label\",\n      \"properties\": {\n        \"dtype\": \"number\",\n        \"std\": 0,\n        \"min\": 0,\n        \"max\": 1,\n        \"num_unique_values\": 2,\n        \"samples\": [\n          1,\n          0\n        ],\n        \"semantic_type\": \"\",\n        \"description\": \"\"\n      }\n    },\n    {\n      \"column\": \"word_len\",\n      \"properties\": {\n        \"dtype\": \"number\",\n        \"std\": 19.51376032714513,\n        \"min\": 4.0,\n        \"max\": 75.0,\n        \"num_unique_values\": 17,\n        \"samples\": [\n          9.0,\n          75.0\n        ],\n        \"semantic_type\": \"\",\n        \"description\": \"\"\n      }\n    }\n  ]\n}"
            }
          },
          "metadata": {},
          "execution_count": 11
        }
      ]
    },
    {
      "cell_type": "code",
      "source": [
        "# train test split\n",
        "from sklearn.model_selection import train_test_split\n",
        "X_train,X_test, y_train, y_test = train_test_split(data['comments'],data['label'], test_size=0.20, random_state=42)"
      ],
      "metadata": {
        "id": "HqQG-uv2lmcg"
      },
      "execution_count": null,
      "outputs": []
    },
    {
      "cell_type": "code",
      "source": [
        "!pip install tensorflow"
      ],
      "metadata": {
        "colab": {
          "base_uri": "https://localhost:8080/"
        },
        "collapsed": true,
        "id": "t6DaTbt4m05a",
        "outputId": "a06428f6-3b45-4ed9-f27a-d6795eaeb97c"
      },
      "execution_count": null,
      "outputs": [
        {
          "output_type": "stream",
          "name": "stdout",
          "text": [
            "Requirement already satisfied: tensorflow in /usr/local/lib/python3.11/dist-packages (2.18.0)\n",
            "Requirement already satisfied: absl-py>=1.0.0 in /usr/local/lib/python3.11/dist-packages (from tensorflow) (1.4.0)\n",
            "Requirement already satisfied: astunparse>=1.6.0 in /usr/local/lib/python3.11/dist-packages (from tensorflow) (1.6.3)\n",
            "Requirement already satisfied: flatbuffers>=24.3.25 in /usr/local/lib/python3.11/dist-packages (from tensorflow) (25.2.10)\n",
            "Requirement already satisfied: gast!=0.5.0,!=0.5.1,!=0.5.2,>=0.2.1 in /usr/local/lib/python3.11/dist-packages (from tensorflow) (0.6.0)\n",
            "Requirement already satisfied: google-pasta>=0.1.1 in /usr/local/lib/python3.11/dist-packages (from tensorflow) (0.2.0)\n",
            "Requirement already satisfied: libclang>=13.0.0 in /usr/local/lib/python3.11/dist-packages (from tensorflow) (18.1.1)\n",
            "Requirement already satisfied: opt-einsum>=2.3.2 in /usr/local/lib/python3.11/dist-packages (from tensorflow) (3.4.0)\n",
            "Requirement already satisfied: packaging in /usr/local/lib/python3.11/dist-packages (from tensorflow) (24.2)\n",
            "Requirement already satisfied: protobuf!=4.21.0,!=4.21.1,!=4.21.2,!=4.21.3,!=4.21.4,!=4.21.5,<6.0.0dev,>=3.20.3 in /usr/local/lib/python3.11/dist-packages (from tensorflow) (5.29.4)\n",
            "Requirement already satisfied: requests<3,>=2.21.0 in /usr/local/lib/python3.11/dist-packages (from tensorflow) (2.32.3)\n",
            "Requirement already satisfied: setuptools in /usr/local/lib/python3.11/dist-packages (from tensorflow) (75.2.0)\n",
            "Requirement already satisfied: six>=1.12.0 in /usr/local/lib/python3.11/dist-packages (from tensorflow) (1.17.0)\n",
            "Requirement already satisfied: termcolor>=1.1.0 in /usr/local/lib/python3.11/dist-packages (from tensorflow) (3.0.0)\n",
            "Requirement already satisfied: typing-extensions>=3.6.6 in /usr/local/lib/python3.11/dist-packages (from tensorflow) (4.13.0)\n",
            "Requirement already satisfied: wrapt>=1.11.0 in /usr/local/lib/python3.11/dist-packages (from tensorflow) (1.17.2)\n",
            "Requirement already satisfied: grpcio<2.0,>=1.24.3 in /usr/local/lib/python3.11/dist-packages (from tensorflow) (1.71.0)\n",
            "Requirement already satisfied: tensorboard<2.19,>=2.18 in /usr/local/lib/python3.11/dist-packages (from tensorflow) (2.18.0)\n",
            "Requirement already satisfied: keras>=3.5.0 in /usr/local/lib/python3.11/dist-packages (from tensorflow) (3.8.0)\n",
            "Requirement already satisfied: numpy<2.1.0,>=1.26.0 in /usr/local/lib/python3.11/dist-packages (from tensorflow) (2.0.2)\n",
            "Requirement already satisfied: h5py>=3.11.0 in /usr/local/lib/python3.11/dist-packages (from tensorflow) (3.13.0)\n",
            "Requirement already satisfied: ml-dtypes<0.5.0,>=0.4.0 in /usr/local/lib/python3.11/dist-packages (from tensorflow) (0.4.1)\n",
            "Requirement already satisfied: tensorflow-io-gcs-filesystem>=0.23.1 in /usr/local/lib/python3.11/dist-packages (from tensorflow) (0.37.1)\n",
            "Requirement already satisfied: wheel<1.0,>=0.23.0 in /usr/local/lib/python3.11/dist-packages (from astunparse>=1.6.0->tensorflow) (0.45.1)\n",
            "Requirement already satisfied: rich in /usr/local/lib/python3.11/dist-packages (from keras>=3.5.0->tensorflow) (13.9.4)\n",
            "Requirement already satisfied: namex in /usr/local/lib/python3.11/dist-packages (from keras>=3.5.0->tensorflow) (0.0.8)\n",
            "Requirement already satisfied: optree in /usr/local/lib/python3.11/dist-packages (from keras>=3.5.0->tensorflow) (0.14.1)\n",
            "Requirement already satisfied: charset-normalizer<4,>=2 in /usr/local/lib/python3.11/dist-packages (from requests<3,>=2.21.0->tensorflow) (3.4.1)\n",
            "Requirement already satisfied: idna<4,>=2.5 in /usr/local/lib/python3.11/dist-packages (from requests<3,>=2.21.0->tensorflow) (3.10)\n",
            "Requirement already satisfied: urllib3<3,>=1.21.1 in /usr/local/lib/python3.11/dist-packages (from requests<3,>=2.21.0->tensorflow) (2.3.0)\n",
            "Requirement already satisfied: certifi>=2017.4.17 in /usr/local/lib/python3.11/dist-packages (from requests<3,>=2.21.0->tensorflow) (2025.1.31)\n",
            "Requirement already satisfied: markdown>=2.6.8 in /usr/local/lib/python3.11/dist-packages (from tensorboard<2.19,>=2.18->tensorflow) (3.7)\n",
            "Requirement already satisfied: tensorboard-data-server<0.8.0,>=0.7.0 in /usr/local/lib/python3.11/dist-packages (from tensorboard<2.19,>=2.18->tensorflow) (0.7.2)\n",
            "Requirement already satisfied: werkzeug>=1.0.1 in /usr/local/lib/python3.11/dist-packages (from tensorboard<2.19,>=2.18->tensorflow) (3.1.3)\n",
            "Requirement already satisfied: MarkupSafe>=2.1.1 in /usr/local/lib/python3.11/dist-packages (from werkzeug>=1.0.1->tensorboard<2.19,>=2.18->tensorflow) (3.0.2)\n",
            "Requirement already satisfied: markdown-it-py>=2.2.0 in /usr/local/lib/python3.11/dist-packages (from rich->keras>=3.5.0->tensorflow) (3.0.0)\n",
            "Requirement already satisfied: pygments<3.0.0,>=2.13.0 in /usr/local/lib/python3.11/dist-packages (from rich->keras>=3.5.0->tensorflow) (2.18.0)\n",
            "Requirement already satisfied: mdurl~=0.1 in /usr/local/lib/python3.11/dist-packages (from markdown-it-py>=2.2.0->rich->keras>=3.5.0->tensorflow) (0.1.2)\n"
          ]
        }
      ]
    },
    {
      "cell_type": "code",
      "source": [
        "from tensorflow.keras.preprocessing.text import Tokenizer\n",
        "from tensorflow.keras.preprocessing.sequence import pad_sequences\n",
        "from tensorflow.keras.models import Sequential\n",
        "from tensorflow.keras.layers import Embedding, Conv1D, GlobalMaxPooling1D, Dense, Dropout"
      ],
      "metadata": {
        "id": "EKJBgIHHmJve"
      },
      "execution_count": null,
      "outputs": []
    },
    {
      "cell_type": "code",
      "source": [
        "# Tokenization and padding\n",
        "max_words = 1000\n",
        "max_len = 50\n",
        "\n",
        "tokenizer = Tokenizer(num_words=max_words)\n",
        "tokenizer.fit_on_texts(X_train)\n",
        "X_train_seq = tokenizer.texts_to_sequences(X_train)\n",
        "X_test_seq = tokenizer.texts_to_sequences(X_test)\n",
        "\n",
        "X_train_pad = pad_sequences(X_train_seq, maxlen=max_len)\n",
        "X_test_pad = pad_sequences(X_test_seq, maxlen=max_len)\n",
        "\n",
        "# Build the CNN model\n",
        "model = Sequential()\n",
        "model.add(Embedding(input_dim=max_words, output_dim=128, input_length=max_len))\n",
        "model.add(Conv1D(filters=64, kernel_size=5, activation='relu'))\n",
        "model.add(GlobalMaxPooling1D())\n",
        "model.add(Dense(10, activation='relu'))\n",
        "model.add(Dropout(0.5))\n",
        "model.add(Dense(2, activation='softmax'))\n",
        "\n",
        "# Compile the model\n",
        "model.compile(optimizer='adam', loss='sparse_categorical_crossentropy', metrics=['accuracy'])\n",
        "\n",
        "# Train the model\n",
        "model.fit(X_train_pad, y_train, epochs=10, batch_size=2, validation_split=0.2)\n",
        "\n",
        "# Evaluate the model\n",
        "loss, accuracy = model.evaluate(X_test_pad, y_test)\n",
        "print(f'Test accuracy: {accuracy:.4f}')"
      ],
      "metadata": {
        "colab": {
          "base_uri": "https://localhost:8080/"
        },
        "id": "TXkB_z2EnVst",
        "outputId": "18870216-333f-47ba-d663-20ad04f986a2"
      },
      "execution_count": null,
      "outputs": [
        {
          "output_type": "stream",
          "name": "stdout",
          "text": [
            "Epoch 1/10\n"
          ]
        },
        {
          "output_type": "stream",
          "name": "stderr",
          "text": [
            "/usr/local/lib/python3.11/dist-packages/keras/src/layers/core/embedding.py:90: UserWarning: Argument `input_length` is deprecated. Just remove it.\n",
            "  warnings.warn(\n"
          ]
        },
        {
          "output_type": "stream",
          "name": "stdout",
          "text": [
            "\u001b[1m11107/11107\u001b[0m \u001b[32m━━━━━━━━━━━━━━━━━━━━\u001b[0m\u001b[37m\u001b[0m \u001b[1m75s\u001b[0m 6ms/step - accuracy: 0.8323 - loss: 0.3760 - val_accuracy: 0.9035 - val_loss: 0.2490\n",
            "Epoch 2/10\n",
            "\u001b[1m11107/11107\u001b[0m \u001b[32m━━━━━━━━━━━━━━━━━━━━\u001b[0m\u001b[37m\u001b[0m \u001b[1m70s\u001b[0m 5ms/step - accuracy: 0.8947 - loss: 0.2602 - val_accuracy: 0.8997 - val_loss: 0.2458\n",
            "Epoch 3/10\n",
            "\u001b[1m11107/11107\u001b[0m \u001b[32m━━━━━━━━━━━━━━━━━━━━\u001b[0m\u001b[37m\u001b[0m \u001b[1m63s\u001b[0m 6ms/step - accuracy: 0.9026 - loss: 0.2427 - val_accuracy: 0.9022 - val_loss: 0.2426\n",
            "Epoch 4/10\n",
            "\u001b[1m11107/11107\u001b[0m \u001b[32m━━━━━━━━━━━━━━━━━━━━\u001b[0m\u001b[37m\u001b[0m \u001b[1m59s\u001b[0m 5ms/step - accuracy: 0.9071 - loss: 0.2252 - val_accuracy: 0.9024 - val_loss: 0.2660\n",
            "Epoch 5/10\n",
            "\u001b[1m11107/11107\u001b[0m \u001b[32m━━━━━━━━━━━━━━━━━━━━\u001b[0m\u001b[37m\u001b[0m \u001b[1m83s\u001b[0m 5ms/step - accuracy: 0.9151 - loss: 0.2088 - val_accuracy: 0.9006 - val_loss: 0.2658\n",
            "Epoch 6/10\n",
            "\u001b[1m11107/11107\u001b[0m \u001b[32m━━━━━━━━━━━━━━━━━━━━\u001b[0m\u001b[37m\u001b[0m \u001b[1m71s\u001b[0m 6ms/step - accuracy: 0.9215 - loss: 0.1792 - val_accuracy: 0.9060 - val_loss: 0.2883\n",
            "Epoch 7/10\n",
            "\u001b[1m11107/11107\u001b[0m \u001b[32m━━━━━━━━━━━━━━━━━━━━\u001b[0m\u001b[37m\u001b[0m \u001b[1m75s\u001b[0m 6ms/step - accuracy: 0.9243 - loss: 0.1693 - val_accuracy: 0.9015 - val_loss: 0.3527\n",
            "Epoch 8/10\n",
            "\u001b[1m11107/11107\u001b[0m \u001b[32m━━━━━━━━━━━━━━━━━━━━\u001b[0m\u001b[37m\u001b[0m \u001b[1m108s\u001b[0m 8ms/step - accuracy: 0.9303 - loss: 0.1532 - val_accuracy: 0.9039 - val_loss: 0.3635\n",
            "Epoch 9/10\n",
            "\u001b[1m11107/11107\u001b[0m \u001b[32m━━━━━━━━━━━━━━━━━━━━\u001b[0m\u001b[37m\u001b[0m \u001b[1m67s\u001b[0m 6ms/step - accuracy: 0.9301 - loss: 0.1480 - val_accuracy: 0.9051 - val_loss: 0.4103\n",
            "Epoch 10/10\n",
            "\u001b[1m11107/11107\u001b[0m \u001b[32m━━━━━━━━━━━━━━━━━━━━\u001b[0m\u001b[37m\u001b[0m \u001b[1m62s\u001b[0m 6ms/step - accuracy: 0.9296 - loss: 0.1456 - val_accuracy: 0.8958 - val_loss: 0.5740\n",
            "\u001b[1m217/217\u001b[0m \u001b[32m━━━━━━━━━━━━━━━━━━━━\u001b[0m\u001b[37m\u001b[0m \u001b[1m1s\u001b[0m 5ms/step - accuracy: 0.8917 - loss: 0.5364\n",
            "Test accuracy: 0.8921\n"
          ]
        }
      ]
    },
    {
      "cell_type": "code",
      "source": [
        "from sklearn.metrics import confusion_matrix\n",
        "# Now you can make predictions\n",
        "predictions = model.predict(X_test_pad)\n",
        "predicted_labels = np.argmax(predictions, axis=1)  # Select class with highest probability\n",
        "\n",
        "# Generate the confusion matrix\n",
        "cm = confusion_matrix(y_test, predicted_labels)\n",
        "print(cm)"
      ],
      "metadata": {
        "colab": {
          "base_uri": "https://localhost:8080/"
        },
        "id": "P6aolPe-qOZT",
        "outputId": "28fd6083-14a2-4698-a9d3-9c4cc516a24b"
      },
      "execution_count": null,
      "outputs": [
        {
          "output_type": "stream",
          "name": "stdout",
          "text": [
            "\u001b[1m217/217\u001b[0m \u001b[32m━━━━━━━━━━━━━━━━━━━━\u001b[0m\u001b[37m\u001b[0m \u001b[1m1s\u001b[0m 5ms/step\n",
            "[[3217  282]\n",
            " [ 467 2976]]\n"
          ]
        }
      ]
    },
    {
      "cell_type": "code",
      "source": [
        "from sklearn.metrics import classification_report\n",
        "print(classification_report(y_test, predicted_labels))"
      ],
      "metadata": {
        "colab": {
          "base_uri": "https://localhost:8080/"
        },
        "id": "Dc5rsjkarTgT",
        "outputId": "24214348-6c50-4ab4-9612-6a81a597b276"
      },
      "execution_count": null,
      "outputs": [
        {
          "output_type": "stream",
          "name": "stdout",
          "text": [
            "              precision    recall  f1-score   support\n",
            "\n",
            "           0       0.87      0.92      0.90      3499\n",
            "           1       0.91      0.86      0.89      3443\n",
            "\n",
            "    accuracy                           0.89      6942\n",
            "   macro avg       0.89      0.89      0.89      6942\n",
            "weighted avg       0.89      0.89      0.89      6942\n",
            "\n"
          ]
        }
      ]
    },
    {
      "cell_type": "code",
      "source": [
        "# prenting each values of the metriics used\n",
        "from sklearn.metrics import accuracy_score, precision_score, recall_score,f1_score\n",
        "print(accuracy_score(y_test, predicted_labels))\n",
        "print(precision_score(y_test, predicted_labels))\n",
        "print(recall_score(y_test, predicted_labels))\n",
        "print(f1_score(y_test, predicted_labels))"
      ],
      "metadata": {
        "colab": {
          "base_uri": "https://localhost:8080/"
        },
        "id": "GZ43D1VZCyX2",
        "outputId": "543403fb-b45d-4fee-f24b-e6f7d13285f2"
      },
      "execution_count": null,
      "outputs": [
        {
          "output_type": "stream",
          "name": "stdout",
          "text": [
            "0.8921060213195044\n",
            "0.9134438305709024\n",
            "0.8643624745861168\n",
            "0.888225637964483\n"
          ]
        }
      ]
    }
  ]
}