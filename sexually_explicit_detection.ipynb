{
  "metadata": {
    "kernelspec": {
      "language": "python",
      "display_name": "Python 3",
      "name": "python3"
    },
    "language_info": {
      "name": "python",
      "version": "3.10.12",
      "mimetype": "text/x-python",
      "codemirror_mode": {
        "name": "ipython",
        "version": 3
      },
      "pygments_lexer": "ipython3",
      "nbconvert_exporter": "python",
      "file_extension": ".py"
    },
    "kaggle": {
      "accelerator": "nvidiaTeslaT4",
      "dataSources": [
        {
          "sourceId": 11249653,
          "sourceType": "datasetVersion",
          "datasetId": 7029569
        }
      ],
      "dockerImageVersionId": 30918,
      "isInternetEnabled": true,
      "language": "python",
      "sourceType": "notebook",
      "isGpuEnabled": true
    },
    "colab": {
      "name": "sexually explicit detection",
      "provenance": [],
      "include_colab_link": true
    }
  },
  "nbformat_minor": 0,
  "nbformat": 4,
  "cells": [
    {
      "cell_type": "markdown",
      "metadata": {
        "id": "view-in-github",
        "colab_type": "text"
      },
      "source": [
        "<a href=\"https://colab.research.google.com/github/demekeendalie/sexually_explicit/blob/main/sexually_explicit_detection.ipynb\" target=\"_parent\"><img src=\"https://colab.research.google.com/assets/colab-badge.svg\" alt=\"Open In Colab\"/></a>"
      ]
    },
    {
      "source": [
        "# IMPORTANT: SOME KAGGLE DATA SOURCES ARE PRIVATE\n",
        "# RUN THIS CELL IN ORDER TO IMPORT YOUR KAGGLE DATA SOURCES.\n",
        "import kagglehub\n",
        "kagglehub.login()\n"
      ],
      "metadata": {
        "id": "jCzzuggpbRNm"
      },
      "cell_type": "code",
      "outputs": [],
      "execution_count": null
    },
    {
      "source": [
        "# IMPORTANT: RUN THIS CELL IN ORDER TO IMPORT YOUR KAGGLE DATA SOURCES,\n",
        "# THEN FEEL FREE TO DELETE THIS CELL.\n",
        "# NOTE: THIS NOTEBOOK ENVIRONMENT DIFFERS FROM KAGGLE'S PYTHON\n",
        "# ENVIRONMENT SO THERE MAY BE MISSING LIBRARIES USED BY YOUR\n",
        "# NOTEBOOK.\n",
        "\n",
        "demeendalie_sexually_explicit_path = kagglehub.dataset_download('demeendalie/sexually-explicit')\n",
        "\n",
        "print('Data source import complete.')\n"
      ],
      "metadata": {
        "id": "mg0U9xYVbRNq"
      },
      "cell_type": "code",
      "outputs": [],
      "execution_count": null
    },
    {
      "cell_type": "code",
      "source": [
        "import pandas as pd\n",
        "import numpy as np\n",
        "# reading the two files\n",
        "explicit= pd.read_excel('../input/sexually-explicit/harashment.xlsx')\n",
        "non_explicit=pd.read_excel('../input/sexually-explicit/Normal comments.xlsx')"
      ],
      "metadata": {
        "_uuid": "8f2839f25d086af736a60e9eeb907d3b93b6e0e5",
        "_cell_guid": "b1076dfc-b9ad-4769-8c92-a6c4dae69d19",
        "trusted": true,
        "execution": {
          "iopub.status.busy": "2025-04-03T08:20:41.997103Z",
          "iopub.execute_input": "2025-04-03T08:20:41.997377Z",
          "iopub.status.idle": "2025-04-03T08:20:46.559935Z",
          "shell.execute_reply.started": "2025-04-03T08:20:41.997355Z",
          "shell.execute_reply": "2025-04-03T08:20:46.559008Z"
        },
        "id": "qdF2w-K2bRNr"
      },
      "outputs": [],
      "execution_count": null
    },
    {
      "cell_type": "code",
      "source": [
        "#taking the two frames as one dataframe data(appending)\n",
        "data = pd.concat([explicit, non_explicit], ignore_index=True)\n",
        "#data=data[['comments','label']]\n",
        "data=data.sample(frac=1).reset_index(drop=True)\n",
        "print(data.tail())"
      ],
      "metadata": {
        "trusted": true,
        "execution": {
          "iopub.status.busy": "2025-04-03T08:20:46.56119Z",
          "iopub.execute_input": "2025-04-03T08:20:46.561639Z",
          "iopub.status.idle": "2025-04-03T08:20:46.584099Z",
          "shell.execute_reply.started": "2025-04-03T08:20:46.561603Z",
          "shell.execute_reply": "2025-04-03T08:20:46.583407Z"
        },
        "id": "GNnBGauwbRNr",
        "outputId": "b6eb2f8d-65f5-4fb2-e2e3-4a3e7a094a22"
      },
      "outputs": [
        {
          "name": "stdout",
          "text": "                                                comments  label\n34707       ከአሰልጣኔ እየተመለስኩ ሳለ ከብስክሌት የሚሄድ የማላውቀው ሰው ነካኝ       1\n34708  አይ አጣጣፍ አይ ማሽሞንሞን ይበል ይሁን ብልናል እኔምለው ዘመዴ ኢትዮጵያ...      0\n34709  ወንበሬን ከኋላ ሄዶ ጸጉሬን አንሥቶ ያዘኝ; ይህ የበርካታ ምሳሌዎች አንዱ...      1\n34710       መቀመጫው ሲቀየር ያለማቋረጥ እያየ ነበር ምስሎችን ጠቅ ማድረግ ጀመረ       1\n34711  አድስ ነግር የአፈሪካ ህብረት ሱዳን በድርድሩ እንድትመለስ ጥረተ እየተደር...      0\n",
          "output_type": "stream"
        }
      ],
      "execution_count": null
    },
    {
      "cell_type": "code",
      "source": [
        "#removing rows having an empty cells\n",
        "data=data.dropna()\n",
        "data.shape"
      ],
      "metadata": {
        "trusted": true,
        "execution": {
          "iopub.status.busy": "2025-04-03T08:20:46.585286Z",
          "iopub.execute_input": "2025-04-03T08:20:46.585491Z",
          "iopub.status.idle": "2025-04-03T08:20:46.594815Z",
          "shell.execute_reply.started": "2025-04-03T08:20:46.585472Z",
          "shell.execute_reply": "2025-04-03T08:20:46.594102Z"
        },
        "id": "pfgJDIMsbRNt",
        "outputId": "3e1e0724-12e8-4d41-b29d-bac54a7f54f3"
      },
      "outputs": [
        {
          "execution_count": 3,
          "output_type": "execute_result",
          "data": {
            "text/plain": "(34710, 2)"
          },
          "metadata": {}
        }
      ],
      "execution_count": null
    },
    {
      "cell_type": "code",
      "source": [
        "data['word_len'] = data['comments'].str.split().str.len()\n",
        "print(data['word_len'].max())"
      ],
      "metadata": {
        "trusted": true,
        "execution": {
          "iopub.status.busy": "2025-04-03T08:20:46.596056Z",
          "iopub.execute_input": "2025-04-03T08:20:46.596286Z",
          "iopub.status.idle": "2025-04-03T08:20:46.826978Z",
          "shell.execute_reply.started": "2025-04-03T08:20:46.596267Z",
          "shell.execute_reply": "2025-04-03T08:20:46.826234Z"
        },
        "id": "Qn-XAE61bRNu",
        "outputId": "cb15f5c5-0313-4def-c85e-489d91acceb5"
      },
      "outputs": [
        {
          "name": "stdout",
          "text": "618.0\n",
          "output_type": "stream"
        }
      ],
      "execution_count": null
    },
    {
      "cell_type": "code",
      "source": [
        "# pre-processing of the dataset\n",
        "#normalizarion\n",
        "import re\n",
        "#method to normalize character level missmatch such as ጸሀይ and ፀሐይ\n",
        "def normalization(input_token):\n",
        "    rep1=re.sub('[ሃኅኃሐሓኻ]','ሀ',input_token)\n",
        "    rep2=re.sub('[ሑኁዅ]','ሁ',rep1)\n",
        "    rep3=re.sub('[ኂሒኺ]','ሂ',rep2)\n",
        "    rep4=re.sub('[ኌሔዄ]','ሄ',rep3)\n",
        "    rep5=re.sub('[ሕኅ]','ህ',rep4)\n",
        "    rep6=re.sub('[ኆሖኾ]','ሆ',rep5)\n",
        "    rep7=re.sub('[ሠ]','ሰ',rep6)\n",
        "    rep8=re.sub('[ሡ]','ሱ',rep7)\n",
        "    rep9=re.sub('[ሢ]','ሲ',rep8)\n",
        "    rep10=re.sub('[ሣ]','ሳ',rep9)\n",
        "    rep11=re.sub('[ሤ]','ሴ',rep10)\n",
        "    rep12=re.sub('[ሥ]','ስ',rep11)\n",
        "    rep13=re.sub('[ሦ]','ሶ',rep12)\n",
        "    rep14=re.sub('[ዓኣዐ]','አ',rep13)\n",
        "    rep15=re.sub('[ዑ]','ኡ',rep14)\n",
        "    rep16=re.sub('[ዒ]','ኢ',rep15)\n",
        "    rep17=re.sub('[ዔ]','ኤ',rep16)\n",
        "    rep18=re.sub('[ዕ]','እ',rep17)\n",
        "    rep19=re.sub('[ዖ]','ኦ',rep18)\n",
        "    rep20=re.sub('[ጸ]','ፀ',rep19)\n",
        "    rep21=re.sub('[ጹ]','ፁ',rep20)\n",
        "    rep22=re.sub('[ጺ]','ፂ',rep21)\n",
        "    rep23=re.sub('[ጻ]','ፃ',rep22)\n",
        "    rep24=re.sub('[ጼ]','ፄ',rep23)\n",
        "    rep25=re.sub('[ጽ]','ፅ',rep24)\n",
        "    rep26=re.sub('[ጾ]','ፆ',rep25)\n",
        "    rep27=re.sub('(ሉ[ዋአ])','ሏ',rep26)\n",
        "    rep28=re.sub('(ሙ[ዋአ])','ሟ',rep27)\n",
        "    rep29=re.sub('(ቱ[ዋአ])','ቷ',rep28)\n",
        "    rep30=re.sub('(ሩ[ዋአ])','ሯ',rep29)\n",
        "    rep31=re.sub('(ሱ[ዋአ])','ሷ',rep30)\n",
        "    rep32=re.sub('(ሹ[ዋአ])','ሿ',rep31)\n",
        "    rep33=re.sub('(ቁ[ዋአ])','ቋ',rep32)\n",
        "    rep34=re.sub('(ቡ[ዋአ])','ቧ',rep33)\n",
        "    rep35=re.sub('(ቹ[ዋአ])','ቿ',rep34)\n",
        "    rep36=re.sub('(ሁ[ዋአ])','ኋ',rep35)\n",
        "    rep37=re.sub('(ኑ[ዋአ])','ኗ',rep36)\n",
        "    rep38=re.sub('(ኙ[ዋአ])','ኟ',rep37)\n",
        "    rep39=re.sub('(ኩ[ዋአ])','ኳ',rep38)\n",
        "    rep40=re.sub('(ዙ[ዋአ])','ዟ',rep39)\n",
        "    rep41=re.sub('(ጉ[ዋአ])','ጓ',rep40)\n",
        "    rep42=re.sub('(ደ[ዋአ])','ዷ',rep41)\n",
        "    rep43=re.sub('(ጡ[ዋአ])','ጧ',rep42)\n",
        "    rep44=re.sub('(ጩ[ዋአ])','ጯ',rep43)\n",
        "    rep45=re.sub('(ጹ[ዋአ])','ጿ',rep44)\n",
        "    rep46=re.sub('(ፉ[ዋአ])','ፏ',rep45)\n",
        "    rep47=re.sub('[ቊ]','ቁ',rep46) #ቁ can be written as ቊ\n",
        "    rep48=re.sub('[ኵ]','ኩ',rep47) #ኩ can be also written as ኵ\n",
        "    return rep48"
      ],
      "metadata": {
        "trusted": true,
        "execution": {
          "iopub.status.busy": "2025-04-03T08:20:46.827799Z",
          "iopub.execute_input": "2025-04-03T08:20:46.828123Z",
          "iopub.status.idle": "2025-04-03T08:20:46.857203Z",
          "shell.execute_reply.started": "2025-04-03T08:20:46.828093Z",
          "shell.execute_reply": "2025-04-03T08:20:46.856389Z"
        },
        "id": "kjz0i389bRNu"
      },
      "outputs": [],
      "execution_count": null
    },
    {
      "cell_type": "code",
      "source": [
        "#normalization of Amharic characters having the same sound and meaning\n",
        "data['comments'] = data['comments'].astype(str)\n",
        "data['comments']=data['comments'].apply(lambda x: normalization(x))"
      ],
      "metadata": {
        "trusted": true,
        "execution": {
          "iopub.status.busy": "2025-04-03T08:20:46.858024Z",
          "iopub.execute_input": "2025-04-03T08:20:46.858263Z",
          "iopub.status.idle": "2025-04-03T08:20:48.243643Z",
          "shell.execute_reply.started": "2025-04-03T08:20:46.858237Z",
          "shell.execute_reply": "2025-04-03T08:20:48.242979Z"
        },
        "id": "I-S53QaxbRNv"
      },
      "outputs": [],
      "execution_count": null
    },
    {
      "cell_type": "code",
      "source": [
        "#pre-processing function\n",
        "def remove_non_amharic(text):\n",
        "  # Define a regex pattern for Amharic characters (Unicode range)\n",
        "    amharic_pattern = r'[^\\u1200-\\u137F\\s]'  # Unicode range for Amharic characters\n",
        "    amharic_pattern=r'[\\u1200-\\u137F]*[0-9]+[\\u1200-\\u137F]*'#removing digits\n",
        "    amharic_pattern = r'[፡-፨]'  # Unicode range for Amharic punctuation marks\n",
        "    amharic_pattern=r'[^\\w\\s]'# removing white spaces\n",
        "    # Use re.sub to replace non-Amharic characters with an empty string\n",
        "    cleaned_text = re.sub(amharic_pattern, '', text)\n",
        "    return cleaned_text"
      ],
      "metadata": {
        "trusted": true,
        "execution": {
          "iopub.status.busy": "2025-04-03T08:20:48.24427Z",
          "iopub.execute_input": "2025-04-03T08:20:48.244471Z",
          "iopub.status.idle": "2025-04-03T08:20:48.248315Z",
          "shell.execute_reply.started": "2025-04-03T08:20:48.244454Z",
          "shell.execute_reply": "2025-04-03T08:20:48.247506Z"
        },
        "id": "3v0Qpre4bRNw"
      },
      "outputs": [],
      "execution_count": null
    },
    {
      "cell_type": "code",
      "source": [
        "# processing the data such as removing non-Amharic characters, digit,punctuation marks\n",
        "data['comments']=data['comments'].apply(remove_non_amharic)\n",
        "data.tail(20)"
      ],
      "metadata": {
        "trusted": true,
        "execution": {
          "iopub.status.busy": "2025-04-03T08:20:48.250435Z",
          "iopub.execute_input": "2025-04-03T08:20:48.250689Z",
          "iopub.status.idle": "2025-04-03T08:20:48.367624Z",
          "shell.execute_reply.started": "2025-04-03T08:20:48.25067Z",
          "shell.execute_reply": "2025-04-03T08:20:48.366825Z"
        },
        "id": "7Vu0pYkgbRNw",
        "outputId": "11db45ed-1ba9-42eb-e161-5c912c754af9"
      },
      "outputs": [
        {
          "execution_count": 8,
          "output_type": "execute_result",
          "data": {
            "text/plain": "                                                comments  label  word_len\n34692  ስለ የአይቲ ቴክኒካል ጉዳይ ከደንበኛ ጋር የመነጋገር ተግባር ነበረው  ከ...      1      79.0\n34693                             ከጋሞና_ከኦሮሞ_ላይ_እጃችሁን_አንሱ      0       1.0\n34694  ካንተ ዝም ብሎ በምርቃና ከማወራ እና ከምዘላብድ እንዳንተ አይነቱን ከድህ...      0      19.0\n34695  ለመላው ኢትዮጵያውያን መልካም አዲስ አመትመጪው ዘመን የፅናት የሰላምና የ...      0      11.0\n34696  ወደ ጓደኞቼ ቤት እየሄድኩ ነበር አንዳንድ ወንድ ልጆች የእግር ኳስ ሲጫወ...      1      23.0\n34697  ወይኔ ደግሞ የዛሬ ሁሉም ህፃናት ናቸው  ወይኔ ወይኔ አይዟቹ አይዟቹ እሺ...      0      24.0\n34698  በእውነት ትናንትና አልቅሻለሁከእኛ ብር አስገድደው ይወስዳሉ እነሱ ደግሞ ...      0      11.0\n34699  የፌደራል ቤቶች ኮርፖሬሽን የግማሽ አመት እቅድ አፈፃፀም ለሁለት ተከታታይ...      0      18.0\n34700  እንዲሁም በስራ ቦታ በ ሳይሆን በ1 አመቴ የመጀመሪያውን የሬስቶራንት ሆስ...      1      19.0\n34701  ቡዳው የራስህን አታደርግም ልጁ ነፍሱን ይማርልን ማለት በቂ ነበር ዊስኪ ...      0      28.0\n34702  ከጓደኞቼ ጋር በዚህ የድጋሚ መሀል ከተማ ተቀምጬ ነበር የወንዶች ቡድን ፎ...      1      13.0\n34703  በዚ አምናለው ኦሮሞች ካማራ የሚጣላ እና አማራን የሚጠላ ሴጣንም ቢሆን ህ...      0      18.0\n34704  በተመረቅኩበት የመጀመሪያ አመት ትምህርት ቤት ከሌሎቹ የአንደኛ አመት ተመ...      1     100.0\n34705                  እኔ ብዙ አላውቃትም ነበር  ኤላ በልኳ ነው የሰፋላት      0       9.0\n34706  የ ኢትዮጵያዊ አንድነት አቀንቃኞች ሰው ከመተንኮስ ባለፈ አንድ ቁምነገር ...      0      11.0\n34707       ከአሰልጣኔ እየተመለስኩ ሳለ ከብስክሌት የሚሄድ የማላውቀው ሰው ነካኝ       1       8.0\n34708  አይ አጣጣፍ አይ ማሽሞንሞን ይበል ይሁን ብልናል እኔምለው ዘመዴ ኢትዮጵያ...      0      25.0\n34709  ወንበሬን ከኋላ ሄዶ ፀጉሬን አንስቶ ያዘኝ ይህ የበርካታ ምሳሌዎች አንዱ ...      1      28.0\n34710       መቀመጫው ሲቀየር ያለማቋረጥ እያየ ነበር ምስሎችን ጠቅ ማድረግ ጀመረ       1       9.0\n34711  አድስ ነግር የአፈሪካ ህብረት ሱዳን በድርድሩ እንድትመለስ ጥረተ እየተደር...      0      24.0",
            "text/html": "<div>\n<style scoped>\n    .dataframe tbody tr th:only-of-type {\n        vertical-align: middle;\n    }\n\n    .dataframe tbody tr th {\n        vertical-align: top;\n    }\n\n    .dataframe thead th {\n        text-align: right;\n    }\n</style>\n<table border=\"1\" class=\"dataframe\">\n  <thead>\n    <tr style=\"text-align: right;\">\n      <th></th>\n      <th>comments</th>\n      <th>label</th>\n      <th>word_len</th>\n    </tr>\n  </thead>\n  <tbody>\n    <tr>\n      <th>34692</th>\n      <td>ስለ የአይቲ ቴክኒካል ጉዳይ ከደንበኛ ጋር የመነጋገር ተግባር ነበረው  ከ...</td>\n      <td>1</td>\n      <td>79.0</td>\n    </tr>\n    <tr>\n      <th>34693</th>\n      <td>ከጋሞና_ከኦሮሞ_ላይ_እጃችሁን_አንሱ</td>\n      <td>0</td>\n      <td>1.0</td>\n    </tr>\n    <tr>\n      <th>34694</th>\n      <td>ካንተ ዝም ብሎ በምርቃና ከማወራ እና ከምዘላብድ እንዳንተ አይነቱን ከድህ...</td>\n      <td>0</td>\n      <td>19.0</td>\n    </tr>\n    <tr>\n      <th>34695</th>\n      <td>ለመላው ኢትዮጵያውያን መልካም አዲስ አመትመጪው ዘመን የፅናት የሰላምና የ...</td>\n      <td>0</td>\n      <td>11.0</td>\n    </tr>\n    <tr>\n      <th>34696</th>\n      <td>ወደ ጓደኞቼ ቤት እየሄድኩ ነበር አንዳንድ ወንድ ልጆች የእግር ኳስ ሲጫወ...</td>\n      <td>1</td>\n      <td>23.0</td>\n    </tr>\n    <tr>\n      <th>34697</th>\n      <td>ወይኔ ደግሞ የዛሬ ሁሉም ህፃናት ናቸው  ወይኔ ወይኔ አይዟቹ አይዟቹ እሺ...</td>\n      <td>0</td>\n      <td>24.0</td>\n    </tr>\n    <tr>\n      <th>34698</th>\n      <td>በእውነት ትናንትና አልቅሻለሁከእኛ ብር አስገድደው ይወስዳሉ እነሱ ደግሞ ...</td>\n      <td>0</td>\n      <td>11.0</td>\n    </tr>\n    <tr>\n      <th>34699</th>\n      <td>የፌደራል ቤቶች ኮርፖሬሽን የግማሽ አመት እቅድ አፈፃፀም ለሁለት ተከታታይ...</td>\n      <td>0</td>\n      <td>18.0</td>\n    </tr>\n    <tr>\n      <th>34700</th>\n      <td>እንዲሁም በስራ ቦታ በ ሳይሆን በ1 አመቴ የመጀመሪያውን የሬስቶራንት ሆስ...</td>\n      <td>1</td>\n      <td>19.0</td>\n    </tr>\n    <tr>\n      <th>34701</th>\n      <td>ቡዳው የራስህን አታደርግም ልጁ ነፍሱን ይማርልን ማለት በቂ ነበር ዊስኪ ...</td>\n      <td>0</td>\n      <td>28.0</td>\n    </tr>\n    <tr>\n      <th>34702</th>\n      <td>ከጓደኞቼ ጋር በዚህ የድጋሚ መሀል ከተማ ተቀምጬ ነበር የወንዶች ቡድን ፎ...</td>\n      <td>1</td>\n      <td>13.0</td>\n    </tr>\n    <tr>\n      <th>34703</th>\n      <td>በዚ አምናለው ኦሮሞች ካማራ የሚጣላ እና አማራን የሚጠላ ሴጣንም ቢሆን ህ...</td>\n      <td>0</td>\n      <td>18.0</td>\n    </tr>\n    <tr>\n      <th>34704</th>\n      <td>በተመረቅኩበት የመጀመሪያ አመት ትምህርት ቤት ከሌሎቹ የአንደኛ አመት ተመ...</td>\n      <td>1</td>\n      <td>100.0</td>\n    </tr>\n    <tr>\n      <th>34705</th>\n      <td>እኔ ብዙ አላውቃትም ነበር  ኤላ በልኳ ነው የሰፋላት</td>\n      <td>0</td>\n      <td>9.0</td>\n    </tr>\n    <tr>\n      <th>34706</th>\n      <td>የ ኢትዮጵያዊ አንድነት አቀንቃኞች ሰው ከመተንኮስ ባለፈ አንድ ቁምነገር ...</td>\n      <td>0</td>\n      <td>11.0</td>\n    </tr>\n    <tr>\n      <th>34707</th>\n      <td>ከአሰልጣኔ እየተመለስኩ ሳለ ከብስክሌት የሚሄድ የማላውቀው ሰው ነካኝ</td>\n      <td>1</td>\n      <td>8.0</td>\n    </tr>\n    <tr>\n      <th>34708</th>\n      <td>አይ አጣጣፍ አይ ማሽሞንሞን ይበል ይሁን ብልናል እኔምለው ዘመዴ ኢትዮጵያ...</td>\n      <td>0</td>\n      <td>25.0</td>\n    </tr>\n    <tr>\n      <th>34709</th>\n      <td>ወንበሬን ከኋላ ሄዶ ፀጉሬን አንስቶ ያዘኝ ይህ የበርካታ ምሳሌዎች አንዱ ...</td>\n      <td>1</td>\n      <td>28.0</td>\n    </tr>\n    <tr>\n      <th>34710</th>\n      <td>መቀመጫው ሲቀየር ያለማቋረጥ እያየ ነበር ምስሎችን ጠቅ ማድረግ ጀመረ</td>\n      <td>1</td>\n      <td>9.0</td>\n    </tr>\n    <tr>\n      <th>34711</th>\n      <td>አድስ ነግር የአፈሪካ ህብረት ሱዳን በድርድሩ እንድትመለስ ጥረተ እየተደር...</td>\n      <td>0</td>\n      <td>24.0</td>\n    </tr>\n  </tbody>\n</table>\n</div>"
          },
          "metadata": {}
        }
      ],
      "execution_count": null
    },
    {
      "cell_type": "code",
      "source": [
        "!pip install lime"
      ],
      "metadata": {
        "trusted": true,
        "execution": {
          "iopub.status.busy": "2025-04-03T08:20:48.369246Z",
          "iopub.execute_input": "2025-04-03T08:20:48.369459Z",
          "iopub.status.idle": "2025-04-03T08:20:52.547193Z",
          "shell.execute_reply.started": "2025-04-03T08:20:48.369441Z",
          "shell.execute_reply": "2025-04-03T08:20:52.546346Z"
        },
        "id": "YSJjc9REbRNx",
        "outputId": "59499836-516b-4a79-ba77-62d313607b54"
      },
      "outputs": [
        {
          "name": "stdout",
          "text": "Requirement already satisfied: lime in /usr/local/lib/python3.10/dist-packages (0.2.0.1)\nRequirement already satisfied: matplotlib in /usr/local/lib/python3.10/dist-packages (from lime) (3.7.5)\nRequirement already satisfied: numpy in /usr/local/lib/python3.10/dist-packages (from lime) (1.26.4)\nRequirement already satisfied: scipy in /usr/local/lib/python3.10/dist-packages (from lime) (1.13.1)\nRequirement already satisfied: tqdm in /usr/local/lib/python3.10/dist-packages (from lime) (4.67.1)\nRequirement already satisfied: scikit-learn>=0.18 in /usr/local/lib/python3.10/dist-packages (from lime) (1.2.2)\nRequirement already satisfied: scikit-image>=0.12 in /usr/local/lib/python3.10/dist-packages (from lime) (0.25.0)\nRequirement already satisfied: networkx>=3.0 in /usr/local/lib/python3.10/dist-packages (from scikit-image>=0.12->lime) (3.4.2)\nRequirement already satisfied: pillow>=10.1 in /usr/local/lib/python3.10/dist-packages (from scikit-image>=0.12->lime) (11.0.0)\nRequirement already satisfied: imageio!=2.35.0,>=2.33 in /usr/local/lib/python3.10/dist-packages (from scikit-image>=0.12->lime) (2.36.1)\nRequirement already satisfied: tifffile>=2022.8.12 in /usr/local/lib/python3.10/dist-packages (from scikit-image>=0.12->lime) (2024.12.12)\nRequirement already satisfied: packaging>=21 in /usr/local/lib/python3.10/dist-packages (from scikit-image>=0.12->lime) (24.2)\nRequirement already satisfied: lazy-loader>=0.4 in /usr/local/lib/python3.10/dist-packages (from scikit-image>=0.12->lime) (0.4)\nRequirement already satisfied: mkl_fft in /usr/local/lib/python3.10/dist-packages (from numpy->lime) (1.3.8)\nRequirement already satisfied: mkl_random in /usr/local/lib/python3.10/dist-packages (from numpy->lime) (1.2.4)\nRequirement already satisfied: mkl_umath in /usr/local/lib/python3.10/dist-packages (from numpy->lime) (0.1.1)\nRequirement already satisfied: mkl in /usr/local/lib/python3.10/dist-packages (from numpy->lime) (2025.0.1)\nRequirement already satisfied: tbb4py in /usr/local/lib/python3.10/dist-packages (from numpy->lime) (2022.0.0)\nRequirement already satisfied: mkl-service in /usr/local/lib/python3.10/dist-packages (from numpy->lime) (2.4.1)\nRequirement already satisfied: joblib>=1.1.1 in /usr/local/lib/python3.10/dist-packages (from scikit-learn>=0.18->lime) (1.4.2)\nRequirement already satisfied: threadpoolctl>=2.0.0 in /usr/local/lib/python3.10/dist-packages (from scikit-learn>=0.18->lime) (3.5.0)\nRequirement already satisfied: contourpy>=1.0.1 in /usr/local/lib/python3.10/dist-packages (from matplotlib->lime) (1.3.1)\nRequirement already satisfied: cycler>=0.10 in /usr/local/lib/python3.10/dist-packages (from matplotlib->lime) (0.12.1)\nRequirement already satisfied: fonttools>=4.22.0 in /usr/local/lib/python3.10/dist-packages (from matplotlib->lime) (4.55.3)\nRequirement already satisfied: kiwisolver>=1.0.1 in /usr/local/lib/python3.10/dist-packages (from matplotlib->lime) (1.4.7)\nRequirement already satisfied: pyparsing>=2.3.1 in /usr/local/lib/python3.10/dist-packages (from matplotlib->lime) (3.2.0)\nRequirement already satisfied: python-dateutil>=2.7 in /usr/local/lib/python3.10/dist-packages (from matplotlib->lime) (2.9.0.post0)\nRequirement already satisfied: six>=1.5 in /usr/local/lib/python3.10/dist-packages (from python-dateutil>=2.7->matplotlib->lime) (1.17.0)\nRequirement already satisfied: intel-openmp>=2024 in /usr/local/lib/python3.10/dist-packages (from mkl->numpy->lime) (2024.2.0)\nRequirement already satisfied: tbb==2022.* in /usr/local/lib/python3.10/dist-packages (from mkl->numpy->lime) (2022.0.0)\nRequirement already satisfied: tcmlib==1.* in /usr/local/lib/python3.10/dist-packages (from tbb==2022.*->mkl->numpy->lime) (1.2.0)\nRequirement already satisfied: intel-cmplr-lib-rt in /usr/local/lib/python3.10/dist-packages (from mkl_umath->numpy->lime) (2024.2.0)\nRequirement already satisfied: intel-cmplr-lib-ur==2024.2.0 in /usr/local/lib/python3.10/dist-packages (from intel-openmp>=2024->mkl->numpy->lime) (2024.2.0)\n",
          "output_type": "stream"
        }
      ],
      "execution_count": null
    },
    {
      "cell_type": "code",
      "source": [
        "#importing important packages\n",
        "from sklearn.feature_extraction.text import TfidfVectorizer\n",
        "from sklearn.model_selection import train_test_split\n",
        "from sklearn.linear_model import LogisticRegression\n",
        "from sklearn.pipeline import make_pipeline\n",
        "from lime.lime_text import LimeTextExplainer"
      ],
      "metadata": {
        "trusted": true,
        "execution": {
          "iopub.status.busy": "2025-04-03T08:20:52.548349Z",
          "iopub.execute_input": "2025-04-03T08:20:52.548658Z",
          "iopub.status.idle": "2025-04-03T08:20:53.200134Z",
          "shell.execute_reply.started": "2025-04-03T08:20:52.548633Z",
          "shell.execute_reply": "2025-04-03T08:20:53.19923Z"
        },
        "id": "VXja3DsYbRNy"
      },
      "outputs": [],
      "execution_count": null
    },
    {
      "cell_type": "code",
      "source": [
        "#spliting the dataset into training and testing set\n",
        "train_val_df, test_dataset = train_test_split(data, test_size=0.20, random_state=42)\n",
        "train_dataset, evaluation_dataset = train_test_split(train_val_df, test_size=0.10, random_state=42)\n",
        "print('Training dataset shape: ', train_dataset.shape)\n",
        "print('Validation dataset shape: ', evaluation_dataset.shape)\n",
        "print('Testing dataset shape: ', test_dataset.shape)"
      ],
      "metadata": {
        "trusted": true,
        "execution": {
          "iopub.status.busy": "2025-04-03T08:20:53.201045Z",
          "iopub.execute_input": "2025-04-03T08:20:53.201435Z",
          "iopub.status.idle": "2025-04-03T08:20:53.220755Z",
          "shell.execute_reply.started": "2025-04-03T08:20:53.201405Z",
          "shell.execute_reply": "2025-04-03T08:20:53.219913Z"
        },
        "id": "d09RCg-pbRNy",
        "outputId": "5592ea6f-5b26-4a75-825b-75376348fdf2"
      },
      "outputs": [
        {
          "name": "stdout",
          "text": "Training dataset shape:  (24991, 3)\nValidation dataset shape:  (2777, 3)\nTesting dataset shape:  (6942, 3)\n",
          "output_type": "stream"
        }
      ],
      "execution_count": null
    },
    {
      "cell_type": "code",
      "source": [
        "msk = np.random.rand(len(data)) < 0.8\n",
        "train_dataset = data[msk]\n",
        "test_dataset = data[~msk]"
      ],
      "metadata": {
        "trusted": true,
        "execution": {
          "iopub.status.busy": "2025-04-03T08:20:53.221587Z",
          "iopub.execute_input": "2025-04-03T08:20:53.221891Z",
          "iopub.status.idle": "2025-04-03T08:20:53.229392Z",
          "shell.execute_reply.started": "2025-04-03T08:20:53.221861Z",
          "shell.execute_reply": "2025-04-03T08:20:53.228823Z"
        },
        "id": "u_YiLZCHbRNy"
      },
      "outputs": [],
      "execution_count": null
    },
    {
      "cell_type": "code",
      "source": [
        "pip install datasets"
      ],
      "metadata": {
        "trusted": true,
        "execution": {
          "iopub.status.busy": "2025-04-03T08:20:53.230238Z",
          "iopub.execute_input": "2025-04-03T08:20:53.230536Z",
          "iopub.status.idle": "2025-04-03T08:20:56.611872Z",
          "shell.execute_reply.started": "2025-04-03T08:20:53.230506Z",
          "shell.execute_reply": "2025-04-03T08:20:56.610835Z"
        },
        "id": "O4v0yHwnbRNz",
        "outputId": "c698996d-54ac-4ff3-a7a6-00811ddde998"
      },
      "outputs": [
        {
          "name": "stdout",
          "text": "Requirement already satisfied: datasets in /usr/local/lib/python3.10/dist-packages (3.3.1)\nRequirement already satisfied: filelock in /usr/local/lib/python3.10/dist-packages (from datasets) (3.17.0)\nRequirement already satisfied: numpy>=1.17 in /usr/local/lib/python3.10/dist-packages (from datasets) (1.26.4)\nRequirement already satisfied: pyarrow>=15.0.0 in /usr/local/lib/python3.10/dist-packages (from datasets) (19.0.1)\nRequirement already satisfied: dill<0.3.9,>=0.3.0 in /usr/local/lib/python3.10/dist-packages (from datasets) (0.3.8)\nRequirement already satisfied: pandas in /usr/local/lib/python3.10/dist-packages (from datasets) (2.2.3)\nRequirement already satisfied: requests>=2.32.2 in /usr/local/lib/python3.10/dist-packages (from datasets) (2.32.3)\nRequirement already satisfied: tqdm>=4.66.3 in /usr/local/lib/python3.10/dist-packages (from datasets) (4.67.1)\nRequirement already satisfied: xxhash in /usr/local/lib/python3.10/dist-packages (from datasets) (3.5.0)\nRequirement already satisfied: multiprocess<0.70.17 in /usr/local/lib/python3.10/dist-packages (from datasets) (0.70.16)\nRequirement already satisfied: fsspec<=2024.12.0,>=2023.1.0 in /usr/local/lib/python3.10/dist-packages (from fsspec[http]<=2024.12.0,>=2023.1.0->datasets) (2024.12.0)\nRequirement already satisfied: aiohttp in /usr/local/lib/python3.10/dist-packages (from datasets) (3.11.12)\nRequirement already satisfied: huggingface-hub>=0.24.0 in /usr/local/lib/python3.10/dist-packages (from datasets) (0.29.0)\nRequirement already satisfied: packaging in /usr/local/lib/python3.10/dist-packages (from datasets) (24.2)\nRequirement already satisfied: pyyaml>=5.1 in /usr/local/lib/python3.10/dist-packages (from datasets) (6.0.2)\nRequirement already satisfied: aiohappyeyeballs>=2.3.0 in /usr/local/lib/python3.10/dist-packages (from aiohttp->datasets) (2.4.6)\nRequirement already satisfied: aiosignal>=1.1.2 in /usr/local/lib/python3.10/dist-packages (from aiohttp->datasets) (1.3.2)\nRequirement already satisfied: async-timeout<6.0,>=4.0 in /usr/local/lib/python3.10/dist-packages (from aiohttp->datasets) (5.0.1)\nRequirement already satisfied: attrs>=17.3.0 in /usr/local/lib/python3.10/dist-packages (from aiohttp->datasets) (25.1.0)\nRequirement already satisfied: frozenlist>=1.1.1 in /usr/local/lib/python3.10/dist-packages (from aiohttp->datasets) (1.5.0)\nRequirement already satisfied: multidict<7.0,>=4.5 in /usr/local/lib/python3.10/dist-packages (from aiohttp->datasets) (6.1.0)\nRequirement already satisfied: propcache>=0.2.0 in /usr/local/lib/python3.10/dist-packages (from aiohttp->datasets) (0.2.1)\nRequirement already satisfied: yarl<2.0,>=1.17.0 in /usr/local/lib/python3.10/dist-packages (from aiohttp->datasets) (1.18.3)\nRequirement already satisfied: typing-extensions>=3.7.4.3 in /usr/local/lib/python3.10/dist-packages (from huggingface-hub>=0.24.0->datasets) (4.12.2)\nRequirement already satisfied: mkl_fft in /usr/local/lib/python3.10/dist-packages (from numpy>=1.17->datasets) (1.3.8)\nRequirement already satisfied: mkl_random in /usr/local/lib/python3.10/dist-packages (from numpy>=1.17->datasets) (1.2.4)\nRequirement already satisfied: mkl_umath in /usr/local/lib/python3.10/dist-packages (from numpy>=1.17->datasets) (0.1.1)\nRequirement already satisfied: mkl in /usr/local/lib/python3.10/dist-packages (from numpy>=1.17->datasets) (2025.0.1)\nRequirement already satisfied: tbb4py in /usr/local/lib/python3.10/dist-packages (from numpy>=1.17->datasets) (2022.0.0)\nRequirement already satisfied: mkl-service in /usr/local/lib/python3.10/dist-packages (from numpy>=1.17->datasets) (2.4.1)\nRequirement already satisfied: charset-normalizer<4,>=2 in /usr/local/lib/python3.10/dist-packages (from requests>=2.32.2->datasets) (3.4.1)\nRequirement already satisfied: idna<4,>=2.5 in /usr/local/lib/python3.10/dist-packages (from requests>=2.32.2->datasets) (3.10)\nRequirement already satisfied: urllib3<3,>=1.21.1 in /usr/local/lib/python3.10/dist-packages (from requests>=2.32.2->datasets) (2.3.0)\nRequirement already satisfied: certifi>=2017.4.17 in /usr/local/lib/python3.10/dist-packages (from requests>=2.32.2->datasets) (2025.1.31)\nRequirement already satisfied: python-dateutil>=2.8.2 in /usr/local/lib/python3.10/dist-packages (from pandas->datasets) (2.9.0.post0)\nRequirement already satisfied: pytz>=2020.1 in /usr/local/lib/python3.10/dist-packages (from pandas->datasets) (2025.1)\nRequirement already satisfied: tzdata>=2022.7 in /usr/local/lib/python3.10/dist-packages (from pandas->datasets) (2025.1)\nRequirement already satisfied: six>=1.5 in /usr/local/lib/python3.10/dist-packages (from python-dateutil>=2.8.2->pandas->datasets) (1.17.0)\nRequirement already satisfied: intel-openmp>=2024 in /usr/local/lib/python3.10/dist-packages (from mkl->numpy>=1.17->datasets) (2024.2.0)\nRequirement already satisfied: tbb==2022.* in /usr/local/lib/python3.10/dist-packages (from mkl->numpy>=1.17->datasets) (2022.0.0)\nRequirement already satisfied: tcmlib==1.* in /usr/local/lib/python3.10/dist-packages (from tbb==2022.*->mkl->numpy>=1.17->datasets) (1.2.0)\nRequirement already satisfied: intel-cmplr-lib-rt in /usr/local/lib/python3.10/dist-packages (from mkl_umath->numpy>=1.17->datasets) (2024.2.0)\nRequirement already satisfied: intel-cmplr-lib-ur==2024.2.0 in /usr/local/lib/python3.10/dist-packages (from intel-openmp>=2024->mkl->numpy>=1.17->datasets) (2024.2.0)\nNote: you may need to restart the kernel to use updated packages.\n",
          "output_type": "stream"
        }
      ],
      "execution_count": null
    },
    {
      "cell_type": "code",
      "source": [
        "from datasets import Dataset\n",
        "#convert format of the dataset to HuggingFace Dataset from Pandas DataFrame\n",
        "train_dataset=Dataset.from_pandas(train_dataset)\n",
        "test_dataset=Dataset.from_pandas(test_dataset)\n",
        "evaluation_dataset=Dataset.from_pandas(evaluation_dataset)\n",
        "print(test_dataset)\n",
        "print(train_dataset)\n",
        "print(evaluation_dataset)"
      ],
      "metadata": {
        "trusted": true,
        "execution": {
          "iopub.status.busy": "2025-04-03T08:20:56.613152Z",
          "iopub.execute_input": "2025-04-03T08:20:56.613524Z",
          "iopub.status.idle": "2025-04-03T08:20:58.193369Z",
          "shell.execute_reply.started": "2025-04-03T08:20:56.613477Z",
          "shell.execute_reply": "2025-04-03T08:20:58.192661Z"
        },
        "id": "94UpB5xIbRN0",
        "outputId": "5ed45e7a-8376-41de-8d3c-7300e5731bc4"
      },
      "outputs": [
        {
          "name": "stdout",
          "text": "Dataset({\n    features: ['comments', 'label', 'word_len', '__index_level_0__'],\n    num_rows: 6976\n})\nDataset({\n    features: ['comments', 'label', 'word_len', '__index_level_0__'],\n    num_rows: 27734\n})\nDataset({\n    features: ['comments', 'label', 'word_len', '__index_level_0__'],\n    num_rows: 2777\n})\n",
          "output_type": "stream"
        }
      ],
      "execution_count": null
    },
    {
      "cell_type": "code",
      "source": [
        "#remove unnecessary column\n",
        "test_dataset=test_dataset.remove_columns(\"__index_level_0__\")\n",
        "train_dataset=train_dataset.remove_columns(\"__index_level_0__\")\n",
        "evaluation_dataset=evaluation_dataset.remove_columns(\"__index_level_0__\")"
      ],
      "metadata": {
        "trusted": true,
        "execution": {
          "iopub.status.busy": "2025-04-03T08:20:58.194114Z",
          "iopub.execute_input": "2025-04-03T08:20:58.194531Z",
          "iopub.status.idle": "2025-04-03T08:20:58.202695Z",
          "shell.execute_reply.started": "2025-04-03T08:20:58.194488Z",
          "shell.execute_reply": "2025-04-03T08:20:58.202066Z"
        },
        "id": "UW0ib4rdbRN1"
      },
      "outputs": [],
      "execution_count": null
    },
    {
      "cell_type": "code",
      "source": [
        "#combine the train and test dataset into one datset\n",
        "import datasets\n",
        "main_dataset= datasets.DatasetDict({\n",
        "    'train': train_dataset,\n",
        "    'test': test_dataset,\n",
        "    'evaluate': evaluation_dataset\n",
        "})"
      ],
      "metadata": {
        "trusted": true,
        "execution": {
          "iopub.status.busy": "2025-04-03T08:20:58.203317Z",
          "iopub.execute_input": "2025-04-03T08:20:58.203511Z",
          "iopub.status.idle": "2025-04-03T08:20:58.220342Z",
          "shell.execute_reply.started": "2025-04-03T08:20:58.203493Z",
          "shell.execute_reply": "2025-04-03T08:20:58.219632Z"
        },
        "id": "x7TbWpLybRN1"
      },
      "outputs": [],
      "execution_count": null
    },
    {
      "cell_type": "code",
      "source": [
        "# training and testing data size\n",
        "training_data_size = main_dataset['train'].num_rows\n",
        "testing_data_size = main_dataset['test'].num_rows\n",
        "evaluation_data_size = main_dataset['evaluate'].num_rows"
      ],
      "metadata": {
        "trusted": true,
        "execution": {
          "iopub.status.busy": "2025-04-03T08:20:58.221153Z",
          "iopub.execute_input": "2025-04-03T08:20:58.221412Z",
          "iopub.status.idle": "2025-04-03T08:20:58.236605Z",
          "shell.execute_reply.started": "2025-04-03T08:20:58.221386Z",
          "shell.execute_reply": "2025-04-03T08:20:58.235831Z"
        },
        "id": "DA5nqfj-bRN1"
      },
      "outputs": [],
      "execution_count": null
    },
    {
      "cell_type": "code",
      "source": [
        "from transformers import AutoTokenizer\n",
        "#loading a tokenizer from the pretrained model\n",
        "tokenizer = AutoTokenizer.from_pretrained(\"devaprobs/hate-speech-detection-using-amharic-language\")"
      ],
      "metadata": {
        "trusted": true,
        "execution": {
          "iopub.status.busy": "2025-04-03T08:20:58.237427Z",
          "iopub.execute_input": "2025-04-03T08:20:58.237667Z",
          "iopub.status.idle": "2025-04-03T08:21:06.606562Z",
          "shell.execute_reply.started": "2025-04-03T08:20:58.237647Z",
          "shell.execute_reply": "2025-04-03T08:21:06.605614Z"
        },
        "colab": {
          "referenced_widgets": [
            "f639a62b6b4a49f49e3580d37adb7aeb",
            "f84ca00286ba418184ddc6b8486d001e",
            "ca9cf7040a324523b33b3c7374a458ec",
            "46a1025cc3d74b8aabc00c2a5fa17920"
          ]
        },
        "id": "GkAndzAlbRN2",
        "outputId": "53059b31-7351-4069-fc91-e9ae581b39c2"
      },
      "outputs": [
        {
          "output_type": "display_data",
          "data": {
            "text/plain": "tokenizer_config.json:   0%|          | 0.00/1.24k [00:00<?, ?B/s]",
            "application/vnd.jupyter.widget-view+json": {
              "version_major": 2,
              "version_minor": 0,
              "model_id": "f639a62b6b4a49f49e3580d37adb7aeb"
            }
          },
          "metadata": {}
        },
        {
          "output_type": "display_data",
          "data": {
            "text/plain": "vocab.txt:   0%|          | 0.00/1.55M [00:00<?, ?B/s]",
            "application/vnd.jupyter.widget-view+json": {
              "version_major": 2,
              "version_minor": 0,
              "model_id": "f84ca00286ba418184ddc6b8486d001e"
            }
          },
          "metadata": {}
        },
        {
          "output_type": "display_data",
          "data": {
            "text/plain": "tokenizer.json:   0%|          | 0.00/3.48M [00:00<?, ?B/s]",
            "application/vnd.jupyter.widget-view+json": {
              "version_major": 2,
              "version_minor": 0,
              "model_id": "ca9cf7040a324523b33b3c7374a458ec"
            }
          },
          "metadata": {}
        },
        {
          "output_type": "display_data",
          "data": {
            "text/plain": "special_tokens_map.json:   0%|          | 0.00/125 [00:00<?, ?B/s]",
            "application/vnd.jupyter.widget-view+json": {
              "version_major": 2,
              "version_minor": 0,
              "model_id": "46a1025cc3d74b8aabc00c2a5fa17920"
            }
          },
          "metadata": {}
        }
      ],
      "execution_count": null
    },
    {
      "cell_type": "code",
      "source": [
        "#Have a tokenizer function that uses the tokenizer\n",
        "def tokenize_function(data):\n",
        "    return tokenizer(data[\"comments\"], padding=\"max_length\", truncation=True)"
      ],
      "metadata": {
        "trusted": true,
        "execution": {
          "iopub.status.busy": "2025-04-03T08:21:06.607547Z",
          "iopub.execute_input": "2025-04-03T08:21:06.608133Z",
          "iopub.status.idle": "2025-04-03T08:21:06.612034Z",
          "shell.execute_reply.started": "2025-04-03T08:21:06.608098Z",
          "shell.execute_reply": "2025-04-03T08:21:06.611325Z"
        },
        "id": "YZHHeYTFbRN2"
      },
      "outputs": [],
      "execution_count": null
    },
    {
      "cell_type": "code",
      "source": [
        "#Tokenize all the data using the mapping functionality\n",
        "tokenized_datasets = main_dataset.map(tokenize_function)"
      ],
      "metadata": {
        "trusted": true,
        "execution": {
          "iopub.status.busy": "2025-04-03T08:21:06.612876Z",
          "iopub.execute_input": "2025-04-03T08:21:06.613173Z",
          "iopub.status.idle": "2025-04-03T08:21:27.860697Z",
          "shell.execute_reply.started": "2025-04-03T08:21:06.613138Z",
          "shell.execute_reply": "2025-04-03T08:21:27.859687Z"
        },
        "colab": {
          "referenced_widgets": [
            "54d6d0253b6345e896a42301f0be6d80",
            "7d83fbed92f549489521dd8d6d2de152",
            "df3ef57fd0f94d9ba82f632fcf3373dd"
          ]
        },
        "id": "o-a8-jIqbRN2",
        "outputId": "f5485a04-8e3c-443a-f95b-23b13b2d137d"
      },
      "outputs": [
        {
          "output_type": "display_data",
          "data": {
            "text/plain": "Map:   0%|          | 0/27734 [00:00<?, ? examples/s]",
            "application/vnd.jupyter.widget-view+json": {
              "version_major": 2,
              "version_minor": 0,
              "model_id": "54d6d0253b6345e896a42301f0be6d80"
            }
          },
          "metadata": {}
        },
        {
          "output_type": "display_data",
          "data": {
            "text/plain": "Map:   0%|          | 0/6976 [00:00<?, ? examples/s]",
            "application/vnd.jupyter.widget-view+json": {
              "version_major": 2,
              "version_minor": 0,
              "model_id": "7d83fbed92f549489521dd8d6d2de152"
            }
          },
          "metadata": {}
        },
        {
          "output_type": "display_data",
          "data": {
            "text/plain": "Map:   0%|          | 0/2777 [00:00<?, ? examples/s]",
            "application/vnd.jupyter.widget-view+json": {
              "version_major": 2,
              "version_minor": 0,
              "model_id": "df3ef57fd0f94d9ba82f632fcf3373dd"
            }
          },
          "metadata": {}
        }
      ],
      "execution_count": null
    },
    {
      "cell_type": "code",
      "source": [
        "#import torch\n",
        "import torch\n",
        "#import Data loader from torch\n",
        "from torch.utils.data import DataLoader\n",
        "#import an optimizer\n",
        "from torch.optim import AdamW\n",
        "#import tqdm for a progress bar\n",
        "from tqdm.auto import tqdm"
      ],
      "metadata": {
        "trusted": true,
        "execution": {
          "iopub.status.busy": "2025-04-03T08:21:27.861749Z",
          "iopub.execute_input": "2025-04-03T08:21:27.862071Z",
          "iopub.status.idle": "2025-04-03T08:21:27.866062Z",
          "shell.execute_reply.started": "2025-04-03T08:21:27.862039Z",
          "shell.execute_reply": "2025-04-03T08:21:27.865148Z"
        },
        "id": "BHWlKbCTbRN3"
      },
      "outputs": [],
      "execution_count": null
    },
    {
      "cell_type": "code",
      "source": [
        "#remove the posts column as it is no longer needed\n",
        "tokenized_datasets = tokenized_datasets.remove_columns([\"comments\"])"
      ],
      "metadata": {
        "trusted": true,
        "execution": {
          "iopub.status.busy": "2025-04-03T08:21:27.866884Z",
          "iopub.execute_input": "2025-04-03T08:21:27.867165Z",
          "iopub.status.idle": "2025-04-03T08:21:27.887112Z",
          "shell.execute_reply.started": "2025-04-03T08:21:27.867136Z",
          "shell.execute_reply": "2025-04-03T08:21:27.886455Z"
        },
        "id": "obC4HXDWbRN3"
      },
      "outputs": [],
      "execution_count": null
    },
    {
      "cell_type": "code",
      "source": [
        "#changing the format of the tokenized dataset to torch\n",
        "tokenized_datasets.set_format(\"torch\")"
      ],
      "metadata": {
        "trusted": true,
        "execution": {
          "iopub.status.busy": "2025-04-03T08:21:27.890379Z",
          "iopub.execute_input": "2025-04-03T08:21:27.8906Z",
          "iopub.status.idle": "2025-04-03T08:21:27.900395Z",
          "shell.execute_reply.started": "2025-04-03T08:21:27.89058Z",
          "shell.execute_reply": "2025-04-03T08:21:27.899801Z"
        },
        "id": "FNL_V8YLbRN3"
      },
      "outputs": [],
      "execution_count": null
    },
    {
      "cell_type": "code",
      "source": [
        "#shuffeling and selecting the needed size of dataset for training and evaluating the model\n",
        "small_train_dataset = tokenized_datasets[\"train\"].shuffle(seed=42).select(range(training_data_size))\n",
        "small_test_dataset = tokenized_datasets[\"test\"].shuffle(seed=42).select(range(testing_data_size))\n",
        "small_eval_dataset = tokenized_datasets[\"evaluate\"].shuffle(seed=42).select(range(evaluation_data_size))"
      ],
      "metadata": {
        "trusted": true,
        "execution": {
          "iopub.status.busy": "2025-04-03T08:21:27.901645Z",
          "iopub.execute_input": "2025-04-03T08:21:27.901856Z",
          "iopub.status.idle": "2025-04-03T08:21:27.934127Z",
          "shell.execute_reply.started": "2025-04-03T08:21:27.901838Z",
          "shell.execute_reply": "2025-04-03T08:21:27.933588Z"
        },
        "id": "6GyiMz60bRN3"
      },
      "outputs": [],
      "execution_count": null
    },
    {
      "cell_type": "code",
      "source": [
        "train_dataloader = DataLoader(small_train_dataset, shuffle=True, batch_size=4)\n",
        "eval_dataloader = DataLoader(small_eval_dataset, batch_size=4)\n",
        "test_dataloader = DataLoader(small_test_dataset, batch_size=4)"
      ],
      "metadata": {
        "trusted": true,
        "execution": {
          "iopub.status.busy": "2025-04-03T08:21:27.934856Z",
          "iopub.execute_input": "2025-04-03T08:21:27.935074Z",
          "iopub.status.idle": "2025-04-03T08:21:27.938942Z",
          "shell.execute_reply.started": "2025-04-03T08:21:27.935056Z",
          "shell.execute_reply": "2025-04-03T08:21:27.938062Z"
        },
        "id": "ZD9BsBOlbRN4"
      },
      "outputs": [],
      "execution_count": null
    },
    {
      "cell_type": "code",
      "source": [
        "#Load auto mode classifier from the pretrained model\n",
        "from transformers import AutoModelForSequenceClassification\n",
        "model = AutoModelForSequenceClassification.from_pretrained(\"devaprobs/hate-speech-detection-using-amharic-language\", num_labels=2)"
      ],
      "metadata": {
        "trusted": true,
        "execution": {
          "iopub.status.busy": "2025-04-03T08:21:27.939676Z",
          "iopub.execute_input": "2025-04-03T08:21:27.939894Z",
          "iopub.status.idle": "2025-04-03T08:21:49.660992Z",
          "shell.execute_reply.started": "2025-04-03T08:21:27.939876Z",
          "shell.execute_reply": "2025-04-03T08:21:49.660143Z"
        },
        "colab": {
          "referenced_widgets": [
            "e615e4d6aefe4c6ab13ad195b2aa52c6",
            "5a92b48b8b50415cb0babe1c79ef25c5"
          ]
        },
        "id": "rzz4YY0zbRN4",
        "outputId": "bee32ff2-ba3f-47c3-f1a0-72a3ac76609f"
      },
      "outputs": [
        {
          "output_type": "display_data",
          "data": {
            "text/plain": "config.json:   0%|          | 0.00/969 [00:00<?, ?B/s]",
            "application/vnd.jupyter.widget-view+json": {
              "version_major": 2,
              "version_minor": 0,
              "model_id": "e615e4d6aefe4c6ab13ad195b2aa52c6"
            }
          },
          "metadata": {}
        },
        {
          "output_type": "display_data",
          "data": {
            "text/plain": "model.safetensors:   0%|          | 0.00/711M [00:00<?, ?B/s]",
            "application/vnd.jupyter.widget-view+json": {
              "version_major": 2,
              "version_minor": 0,
              "model_id": "5a92b48b8b50415cb0babe1c79ef25c5"
            }
          },
          "metadata": {}
        }
      ],
      "execution_count": null
    },
    {
      "cell_type": "code",
      "source": [
        "!pip install evaluate"
      ],
      "metadata": {
        "trusted": true,
        "execution": {
          "iopub.status.busy": "2025-04-03T08:21:49.66193Z",
          "iopub.execute_input": "2025-04-03T08:21:49.662435Z",
          "iopub.status.idle": "2025-04-03T08:21:55.23249Z",
          "shell.execute_reply.started": "2025-04-03T08:21:49.662411Z",
          "shell.execute_reply": "2025-04-03T08:21:55.2316Z"
        },
        "id": "w8h8i1njbRN4",
        "outputId": "37738ad0-1225-4a8b-f69f-68b7e6a216ec"
      },
      "outputs": [
        {
          "name": "stdout",
          "text": "Collecting evaluate\n  Downloading evaluate-0.4.3-py3-none-any.whl.metadata (9.2 kB)\nRequirement already satisfied: datasets>=2.0.0 in /usr/local/lib/python3.10/dist-packages (from evaluate) (3.3.1)\nRequirement already satisfied: numpy>=1.17 in /usr/local/lib/python3.10/dist-packages (from evaluate) (1.26.4)\nRequirement already satisfied: dill in /usr/local/lib/python3.10/dist-packages (from evaluate) (0.3.8)\nRequirement already satisfied: pandas in /usr/local/lib/python3.10/dist-packages (from evaluate) (2.2.3)\nRequirement already satisfied: requests>=2.19.0 in /usr/local/lib/python3.10/dist-packages (from evaluate) (2.32.3)\nRequirement already satisfied: tqdm>=4.62.1 in /usr/local/lib/python3.10/dist-packages (from evaluate) (4.67.1)\nRequirement already satisfied: xxhash in /usr/local/lib/python3.10/dist-packages (from evaluate) (3.5.0)\nRequirement already satisfied: multiprocess in /usr/local/lib/python3.10/dist-packages (from evaluate) (0.70.16)\nRequirement already satisfied: fsspec>=2021.05.0 in /usr/local/lib/python3.10/dist-packages (from fsspec[http]>=2021.05.0->evaluate) (2024.12.0)\nRequirement already satisfied: huggingface-hub>=0.7.0 in /usr/local/lib/python3.10/dist-packages (from evaluate) (0.29.0)\nRequirement already satisfied: packaging in /usr/local/lib/python3.10/dist-packages (from evaluate) (24.2)\nRequirement already satisfied: filelock in /usr/local/lib/python3.10/dist-packages (from datasets>=2.0.0->evaluate) (3.17.0)\nRequirement already satisfied: pyarrow>=15.0.0 in /usr/local/lib/python3.10/dist-packages (from datasets>=2.0.0->evaluate) (19.0.1)\nRequirement already satisfied: aiohttp in /usr/local/lib/python3.10/dist-packages (from datasets>=2.0.0->evaluate) (3.11.12)\nRequirement already satisfied: pyyaml>=5.1 in /usr/local/lib/python3.10/dist-packages (from datasets>=2.0.0->evaluate) (6.0.2)\nRequirement already satisfied: typing-extensions>=3.7.4.3 in /usr/local/lib/python3.10/dist-packages (from huggingface-hub>=0.7.0->evaluate) (4.12.2)\nRequirement already satisfied: mkl_fft in /usr/local/lib/python3.10/dist-packages (from numpy>=1.17->evaluate) (1.3.8)\nRequirement already satisfied: mkl_random in /usr/local/lib/python3.10/dist-packages (from numpy>=1.17->evaluate) (1.2.4)\nRequirement already satisfied: mkl_umath in /usr/local/lib/python3.10/dist-packages (from numpy>=1.17->evaluate) (0.1.1)\nRequirement already satisfied: mkl in /usr/local/lib/python3.10/dist-packages (from numpy>=1.17->evaluate) (2025.0.1)\nRequirement already satisfied: tbb4py in /usr/local/lib/python3.10/dist-packages (from numpy>=1.17->evaluate) (2022.0.0)\nRequirement already satisfied: mkl-service in /usr/local/lib/python3.10/dist-packages (from numpy>=1.17->evaluate) (2.4.1)\nRequirement already satisfied: charset-normalizer<4,>=2 in /usr/local/lib/python3.10/dist-packages (from requests>=2.19.0->evaluate) (3.4.1)\nRequirement already satisfied: idna<4,>=2.5 in /usr/local/lib/python3.10/dist-packages (from requests>=2.19.0->evaluate) (3.10)\nRequirement already satisfied: urllib3<3,>=1.21.1 in /usr/local/lib/python3.10/dist-packages (from requests>=2.19.0->evaluate) (2.3.0)\nRequirement already satisfied: certifi>=2017.4.17 in /usr/local/lib/python3.10/dist-packages (from requests>=2.19.0->evaluate) (2025.1.31)\nRequirement already satisfied: python-dateutil>=2.8.2 in /usr/local/lib/python3.10/dist-packages (from pandas->evaluate) (2.9.0.post0)\nRequirement already satisfied: pytz>=2020.1 in /usr/local/lib/python3.10/dist-packages (from pandas->evaluate) (2025.1)\nRequirement already satisfied: tzdata>=2022.7 in /usr/local/lib/python3.10/dist-packages (from pandas->evaluate) (2025.1)\nRequirement already satisfied: aiohappyeyeballs>=2.3.0 in /usr/local/lib/python3.10/dist-packages (from aiohttp->datasets>=2.0.0->evaluate) (2.4.6)\nRequirement already satisfied: aiosignal>=1.1.2 in /usr/local/lib/python3.10/dist-packages (from aiohttp->datasets>=2.0.0->evaluate) (1.3.2)\nRequirement already satisfied: async-timeout<6.0,>=4.0 in /usr/local/lib/python3.10/dist-packages (from aiohttp->datasets>=2.0.0->evaluate) (5.0.1)\nRequirement already satisfied: attrs>=17.3.0 in /usr/local/lib/python3.10/dist-packages (from aiohttp->datasets>=2.0.0->evaluate) (25.1.0)\nRequirement already satisfied: frozenlist>=1.1.1 in /usr/local/lib/python3.10/dist-packages (from aiohttp->datasets>=2.0.0->evaluate) (1.5.0)\nRequirement already satisfied: multidict<7.0,>=4.5 in /usr/local/lib/python3.10/dist-packages (from aiohttp->datasets>=2.0.0->evaluate) (6.1.0)\nRequirement already satisfied: propcache>=0.2.0 in /usr/local/lib/python3.10/dist-packages (from aiohttp->datasets>=2.0.0->evaluate) (0.2.1)\nRequirement already satisfied: yarl<2.0,>=1.17.0 in /usr/local/lib/python3.10/dist-packages (from aiohttp->datasets>=2.0.0->evaluate) (1.18.3)\nRequirement already satisfied: six>=1.5 in /usr/local/lib/python3.10/dist-packages (from python-dateutil>=2.8.2->pandas->evaluate) (1.17.0)\nRequirement already satisfied: intel-openmp>=2024 in /usr/local/lib/python3.10/dist-packages (from mkl->numpy>=1.17->evaluate) (2024.2.0)\nRequirement already satisfied: tbb==2022.* in /usr/local/lib/python3.10/dist-packages (from mkl->numpy>=1.17->evaluate) (2022.0.0)\nRequirement already satisfied: tcmlib==1.* in /usr/local/lib/python3.10/dist-packages (from tbb==2022.*->mkl->numpy>=1.17->evaluate) (1.2.0)\nRequirement already satisfied: intel-cmplr-lib-rt in /usr/local/lib/python3.10/dist-packages (from mkl_umath->numpy>=1.17->evaluate) (2024.2.0)\nRequirement already satisfied: intel-cmplr-lib-ur==2024.2.0 in /usr/local/lib/python3.10/dist-packages (from intel-openmp>=2024->mkl->numpy>=1.17->evaluate) (2024.2.0)\nDownloading evaluate-0.4.3-py3-none-any.whl (84 kB)\n\u001b[2K   \u001b[90m━━━━━━━━━━━━━━━━━━━━━━━━━━━━━━━━━━━━━━━━\u001b[0m \u001b[32m84.0/84.0 kB\u001b[0m \u001b[31m3.3 MB/s\u001b[0m eta \u001b[36m0:00:00\u001b[0m\n\u001b[?25hInstalling collected packages: evaluate\nSuccessfully installed evaluate-0.4.3\n",
          "output_type": "stream"
        }
      ],
      "execution_count": null
    },
    {
      "cell_type": "code",
      "source": [
        "from transformers import TrainingArguments, Trainer\n",
        "from transformers import EarlyStoppingCallback, IntervalStrategy"
      ],
      "metadata": {
        "trusted": true,
        "execution": {
          "iopub.status.busy": "2025-04-03T08:21:55.233456Z",
          "iopub.execute_input": "2025-04-03T08:21:55.233747Z",
          "iopub.status.idle": "2025-04-03T08:21:56.724978Z",
          "shell.execute_reply.started": "2025-04-03T08:21:55.233714Z",
          "shell.execute_reply": "2025-04-03T08:21:56.724308Z"
        },
        "id": "Scj9lECZbRN5"
      },
      "outputs": [],
      "execution_count": null
    },
    {
      "cell_type": "code",
      "source": [
        "from evaluate import load\n",
        "def custom_metrics(eval_pred):\n",
        "    metric1 = load(\"precision\")\n",
        "    metric2 = load(\"recall\")\n",
        "    metric3 = load(\"f1\")\n",
        "    metric4 = load(\"accuracy\")\n",
        "\n",
        "    logits, labels = eval_pred\n",
        "    predictions = np.argmax(logits, axis=-1)\n",
        "\n",
        "    precision = metric1.compute(predictions=predictions, references=labels, average=\"weighted\")[\"precision\"]\n",
        "    recall = metric2.compute(predictions=predictions, references=labels, average=\"weighted\")[\"recall\"]\n",
        "    f1 = metric3.compute(predictions=predictions, references=labels, average=\"weighted\")[\"f1\"]\n",
        "    accuracy = metric4.compute(predictions=predictions, references=labels)[\"accuracy\"]\n",
        "\n",
        "    return {\"precision\": precision, \"recall\": recall, \"f1\": f1, \"accuracy\": accuracy}"
      ],
      "metadata": {
        "trusted": true,
        "execution": {
          "iopub.status.busy": "2025-04-03T08:21:56.725703Z",
          "iopub.execute_input": "2025-04-03T08:21:56.725925Z",
          "iopub.status.idle": "2025-04-03T08:21:56.879602Z",
          "shell.execute_reply.started": "2025-04-03T08:21:56.725905Z",
          "shell.execute_reply": "2025-04-03T08:21:56.879035Z"
        },
        "id": "0JgKizsKbRN5"
      },
      "outputs": [],
      "execution_count": null
    },
    {
      "cell_type": "code",
      "source": [
        "# #load an optimizer\n",
        "# optimizer = AdamW(model.parameters(), lr=5e-5)\n",
        "training_args = TrainingArguments(\n",
        "   output_dir=\"./results\",\n",
        "   eval_strategy='epoch',\n",
        "   save_strategy='epoch',\n",
        "   logging_strategy='epoch',\n",
        "   num_train_epochs=4,\n",
        "   learning_rate=1e-5,\n",
        "   per_device_train_batch_size=4,  # batch size per device during training\n",
        "   per_device_eval_batch_size=4,   # batch size for evaluation\n",
        "   warmup_steps=1000,                # number of warmup steps for learning rate\n",
        "   weight_decay=0.01,\n",
        "   run_name=\"sexually explicit comments\",# strength of weight decay\n",
        "   logging_dir='./logs',            # directory for storing logs\n",
        "   logging_steps=20,\n",
        "   report_to=\"none\",\n",
        "   load_best_model_at_end= True,\n",
        ")"
      ],
      "metadata": {
        "trusted": true,
        "execution": {
          "iopub.status.busy": "2025-04-03T08:21:56.88034Z",
          "iopub.execute_input": "2025-04-03T08:21:56.880589Z",
          "iopub.status.idle": "2025-04-03T08:21:57.036213Z",
          "shell.execute_reply.started": "2025-04-03T08:21:56.880547Z",
          "shell.execute_reply": "2025-04-03T08:21:57.03528Z"
        },
        "id": "Xj9WeiwObRN5"
      },
      "outputs": [],
      "execution_count": null
    },
    {
      "cell_type": "code",
      "source": [
        "trainer = Trainer(\n",
        "    model=model,\n",
        "    args=training_args,\n",
        "    train_dataset=small_train_dataset,\n",
        "    eval_dataset=small_eval_dataset,\n",
        "    compute_metrics=custom_metrics,\n",
        "    callbacks = [EarlyStoppingCallback(early_stopping_patience=10)],\n",
        ")"
      ],
      "metadata": {
        "trusted": true,
        "execution": {
          "iopub.status.busy": "2025-04-03T08:21:57.037233Z",
          "iopub.execute_input": "2025-04-03T08:21:57.037504Z",
          "iopub.status.idle": "2025-04-03T08:21:57.493294Z",
          "shell.execute_reply.started": "2025-04-03T08:21:57.037474Z",
          "shell.execute_reply": "2025-04-03T08:21:57.492628Z"
        },
        "id": "BRzIoBBYbRN6"
      },
      "outputs": [],
      "execution_count": null
    },
    {
      "cell_type": "code",
      "source": [
        "train_result=trainer.train()"
      ],
      "metadata": {
        "trusted": true,
        "execution": {
          "iopub.status.busy": "2025-04-03T08:21:57.494057Z",
          "iopub.execute_input": "2025-04-03T08:21:57.494282Z",
          "iopub.status.idle": "2025-04-03T10:42:23.318332Z",
          "shell.execute_reply.started": "2025-04-03T08:21:57.494262Z",
          "shell.execute_reply": "2025-04-03T10:42:23.317552Z"
        },
        "colab": {
          "referenced_widgets": [
            "9652fad713a6468f8176f9a1388b4156",
            "d980a23bfb7b4d8ba0f2b9433637c90d",
            "e0f79d4acbbf4dbb850717f0b69245a8",
            "81de0e71236f41e18b5ea78c5e59cf11"
          ]
        },
        "id": "y-5AcX_sbRN6",
        "outputId": "1b5df2fc-5840-4737-82b3-6033017b5fe5"
      },
      "outputs": [
        {
          "name": "stderr",
          "text": "/usr/local/lib/python3.10/dist-packages/torch/nn/parallel/_functions.py:71: UserWarning: Was asked to gather along dimension 0, but all input tensors were scalars; will instead unsqueeze and return a vector.\n  warnings.warn(\n",
          "output_type": "stream"
        },
        {
          "output_type": "display_data",
          "data": {
            "text/plain": "<IPython.core.display.HTML object>",
            "text/html": "\n    <div>\n      \n      <progress value='13868' max='13868' style='width:300px; height:20px; vertical-align: middle;'></progress>\n      [13868/13868 2:20:23, Epoch 4/4]\n    </div>\n    <table border=\"1\" class=\"dataframe\">\n  <thead>\n <tr style=\"text-align: left;\">\n      <th>Epoch</th>\n      <th>Training Loss</th>\n      <th>Validation Loss</th>\n      <th>Precision</th>\n      <th>Recall</th>\n      <th>F1</th>\n      <th>Accuracy</th>\n    </tr>\n  </thead>\n  <tbody>\n    <tr>\n      <td>1</td>\n      <td>0.354900</td>\n      <td>0.176970</td>\n      <td>0.949090</td>\n      <td>0.948866</td>\n      <td>0.948867</td>\n      <td>0.948866</td>\n    </tr>\n    <tr>\n      <td>2</td>\n      <td>0.208500</td>\n      <td>0.121760</td>\n      <td>0.975326</td>\n      <td>0.975153</td>\n      <td>0.975147</td>\n      <td>0.975153</td>\n    </tr>\n    <tr>\n      <td>3</td>\n      <td>0.130800</td>\n      <td>0.089003</td>\n      <td>0.983443</td>\n      <td>0.983435</td>\n      <td>0.983435</td>\n      <td>0.983435</td>\n    </tr>\n    <tr>\n      <td>4</td>\n      <td>0.074100</td>\n      <td>0.091809</td>\n      <td>0.985604</td>\n      <td>0.985596</td>\n      <td>0.985595</td>\n      <td>0.985596</td>\n    </tr>\n  </tbody>\n</table><p>"
          },
          "metadata": {}
        },
        {
          "output_type": "display_data",
          "data": {
            "text/plain": "Downloading builder script:   0%|          | 0.00/7.56k [00:00<?, ?B/s]",
            "application/vnd.jupyter.widget-view+json": {
              "version_major": 2,
              "version_minor": 0,
              "model_id": "9652fad713a6468f8176f9a1388b4156"
            }
          },
          "metadata": {}
        },
        {
          "output_type": "display_data",
          "data": {
            "text/plain": "Downloading builder script:   0%|          | 0.00/7.38k [00:00<?, ?B/s]",
            "application/vnd.jupyter.widget-view+json": {
              "version_major": 2,
              "version_minor": 0,
              "model_id": "d980a23bfb7b4d8ba0f2b9433637c90d"
            }
          },
          "metadata": {}
        },
        {
          "output_type": "display_data",
          "data": {
            "text/plain": "Downloading builder script:   0%|          | 0.00/6.79k [00:00<?, ?B/s]",
            "application/vnd.jupyter.widget-view+json": {
              "version_major": 2,
              "version_minor": 0,
              "model_id": "e0f79d4acbbf4dbb850717f0b69245a8"
            }
          },
          "metadata": {}
        },
        {
          "output_type": "display_data",
          "data": {
            "text/plain": "Downloading builder script:   0%|          | 0.00/4.20k [00:00<?, ?B/s]",
            "application/vnd.jupyter.widget-view+json": {
              "version_major": 2,
              "version_minor": 0,
              "model_id": "81de0e71236f41e18b5ea78c5e59cf11"
            }
          },
          "metadata": {}
        },
        {
          "name": "stderr",
          "text": "/usr/local/lib/python3.10/dist-packages/torch/nn/parallel/_functions.py:71: UserWarning: Was asked to gather along dimension 0, but all input tensors were scalars; will instead unsqueeze and return a vector.\n  warnings.warn(\n/usr/local/lib/python3.10/dist-packages/torch/nn/parallel/_functions.py:71: UserWarning: Was asked to gather along dimension 0, but all input tensors were scalars; will instead unsqueeze and return a vector.\n  warnings.warn(\n/usr/local/lib/python3.10/dist-packages/torch/nn/parallel/_functions.py:71: UserWarning: Was asked to gather along dimension 0, but all input tensors were scalars; will instead unsqueeze and return a vector.\n  warnings.warn(\n/usr/local/lib/python3.10/dist-packages/torch/nn/parallel/_functions.py:71: UserWarning: Was asked to gather along dimension 0, but all input tensors were scalars; will instead unsqueeze and return a vector.\n  warnings.warn(\n",
          "output_type": "stream"
        }
      ],
      "execution_count": null
    },
    {
      "cell_type": "code",
      "source": [
        "from sklearn.metrics import confusion_matrix\n",
        "# Now you can make predictions\n",
        "predictions = trainer.predict(small_test_dataset)\n",
        "# Get the predicted labels and true labels\n",
        "predicted_labels = np.argmax(predictions.predictions, axis=1)\n",
        "true_labels =  small_test_dataset['label']\n",
        "# Calculate the confusion matrix\n",
        "cm = confusion_matrix(true_labels, predicted_labels)\n",
        "print(cm)"
      ],
      "metadata": {
        "trusted": true,
        "execution": {
          "iopub.status.busy": "2025-04-03T10:42:23.319185Z",
          "iopub.execute_input": "2025-04-03T10:42:23.319436Z",
          "iopub.status.idle": "2025-04-03T10:45:15.072363Z",
          "shell.execute_reply.started": "2025-04-03T10:42:23.319403Z",
          "shell.execute_reply": "2025-04-03T10:45:15.07165Z"
        },
        "id": "ozLGgRpubRN6",
        "outputId": "4a1563a6-fdcc-46a5-faf3-537ad919c8f5"
      },
      "outputs": [
        {
          "name": "stderr",
          "text": "/usr/local/lib/python3.10/dist-packages/torch/nn/parallel/_functions.py:71: UserWarning: Was asked to gather along dimension 0, but all input tensors were scalars; will instead unsqueeze and return a vector.\n  warnings.warn(\n",
          "output_type": "stream"
        },
        {
          "output_type": "display_data",
          "data": {
            "text/plain": "<IPython.core.display.HTML object>",
            "text/html": ""
          },
          "metadata": {}
        },
        {
          "name": "stdout",
          "text": "[[3384  198]\n [ 226 3168]]\n",
          "output_type": "stream"
        }
      ],
      "execution_count": null
    },
    {
      "cell_type": "code",
      "source": [
        "from sklearn.metrics import classification_report\n",
        "print(classification_report(true_labels, predicted_labels))"
      ],
      "metadata": {
        "trusted": true,
        "execution": {
          "iopub.status.busy": "2025-04-03T10:45:15.073247Z",
          "iopub.execute_input": "2025-04-03T10:45:15.073583Z",
          "iopub.status.idle": "2025-04-03T10:45:15.085673Z",
          "shell.execute_reply.started": "2025-04-03T10:45:15.073532Z",
          "shell.execute_reply": "2025-04-03T10:45:15.08496Z"
        },
        "id": "9FQA-Y5lbRN7",
        "outputId": "99048f53-e91b-4668-de9e-31804038b559"
      },
      "outputs": [
        {
          "name": "stdout",
          "text": "              precision    recall  f1-score   support\n\n           0       0.94      0.94      0.94      3582\n           1       0.94      0.93      0.94      3394\n\n    accuracy                           0.94      6976\n   macro avg       0.94      0.94      0.94      6976\nweighted avg       0.94      0.94      0.94      6976\n\n",
          "output_type": "stream"
        }
      ],
      "execution_count": null
    },
    {
      "cell_type": "code",
      "source": [
        "import lime\n",
        "import lime.lime_text\n",
        "data = [\n",
        "\"በእኔ ላይ ምን ያህል ጥሩ ስሜት እንደሚሰማዎት ማሰብ ማቆም አልችልም ሌሊቱን ሙሉ እንዲሰማኝ እፈልጋለሁ\",\n",
        "\"ያንቺ ልብስ ለብሰሽ ያለሽ ሀሳብ ብቻ ዱርዬ ገፋፋኝ እንደገና ለማየት መጠበቅ አልችልም\",\n",
        "\"ስሜን በሹክሹክታ የምትናገሩበትን መንገድ ወድጄዋለሁ የሚያቃስቱዎትን ነገሮች ሁሉ ለማድረግ እንድፈልግ ያደርገኛል\",\n",
        "\"ባየሁህ ቁጥር አብረን ልንሰራው የምንችለውን ሁሉንም ባለጌ ነገር መገመት አያቅተኝም\",\n",
        "\"በጣም የማይቋቋሙት ነሽ ሁለታችንም ከእንግዲህ ልንወስደው እስካልቻልን ድረስ እያንዳንዳችሁን ኢንች ማሰስ እፈልጋለሁ\",\n",
        "\"ሁልጊዜ ባየሁህ ጊዜ የእኔ ቀን ወዲያውኑ ይሻሻላል; በእኔ ላይ ያን አስደናቂ ተፅእኖ አለህ!\",\n",
        "\"በጣም የሚያምር ፈገግታ አለህ ክፍሉን በሙሉ ያበራል\",\n",
        "\"የምትስቁበትን መንገድ ወድጄዋለሁ ተላላፊ ነው እና አብሬ መሳቅ እንድፈልግ ያደርገኛል\",\n",
        "\"እንደ ንጹህ አየር እስትንፋስ ነዎት  በዙሪያዎ መሆን በጣም የሚያድስ ስሜት ይሰማዎታል\",\n",
        "\"ስለ አንተ ባሰብኩ ጊዜ ፈገግ ከማለት በቀር ምንም ማድረግ አልችልም፣ ልቤን እንዴት እንደምታስደስት ታውቃለህ!\",\n",
        "]\n",
        "labels = [1, 1, 1, 1, 1, 0, 0, 0, 0, 0]\n",
        "# Create a pandas DataFrame\n",
        "df = pd.DataFrame({\"text\": data, \"label\": labels})\n",
        "sample_text = df[\"text\"][0]\n",
        "sample_label = df[\"label\"][0]\n",
        "\n",
        "def predictor(texts):\n",
        "    trainer.model.eval()\n",
        "    inputs = tokenizer(texts, return_tensors=\"pt\", padding=True, truncation=True).to('cuda')\n",
        "    with torch.no_grad():\n",
        "        print(next(trainer.model.parameters()).device)\n",
        "        outputs = trainer.model(**inputs).logits\n",
        "        return torch.nn.functional.softmax(outputs, dim=-1).cpu().numpy()\n",
        "\n",
        "explainer_lime = lime.lime_text.LimeTextExplainer(class_names=['0', '1'])\n",
        "\n",
        "# Ensure model is on cuda and set attn_implementation\n",
        "trainer.model = trainer.model.to(\"cuda\")\n",
        "trainer.model.config.attn_implementation = \"eager\"\n",
        "\n",
        "def get_attention(text):\n",
        "    inputs = tokenizer(text, return_tensors=\"pt\").to('cuda')\n",
        "    outputs = trainer.model(**inputs, output_attentions=True)\n",
        "    attention = outputs.attentions\n",
        "    return attention\n",
        "\n",
        "# Loop through all data points and print the explanations\n",
        "for index, row in df.iterrows():\n",
        "    sample_text = row[\"text\"]\n",
        "    sample_label = row[\"label\"]\n",
        "\n",
        "    explanation = explainer_lime.explain_instance(\n",
        "        sample_text,\n",
        "        classifier_fn=predictor,\n",
        "    )\n",
        "    print(f\"Explanation for sample {index}:\")\n",
        "    print(dict(explanation.as_list()))\n",
        "    print(\"-\" * 40)\n",
        "\n",
        "    attention_values = get_attention(sample_text)\n",
        "    print(\"Attention values for first layer, first head, first token:\")\n",
        "    print(attention_values[0][0][0][0])\n",
        "    print(\"=\" * 40)"
      ],
      "metadata": {
        "trusted": true,
        "execution": {
          "iopub.status.busy": "2025-04-03T11:08:31.774699Z",
          "iopub.execute_input": "2025-04-03T11:08:31.775055Z",
          "iopub.status.idle": "2025-04-03T11:09:15.718956Z",
          "shell.execute_reply.started": "2025-04-03T11:08:31.775031Z",
          "shell.execute_reply": "2025-04-03T11:09:15.718091Z"
        },
        "id": "ImCTbteWbRN7",
        "outputId": "ee22b358-1534-4432-a0f8-43f761f455a4"
      },
      "outputs": [
        {
          "name": "stdout",
          "text": "cuda:0\nExplanation for sample 0:\n{'እፈልጋለሁ': 0.013438253310629564, 'ያህል': 0.01262704734786966, 'አልችልም': 0.012136180872524844, 'ምን': -0.011633307070092684, 'ማሰብ': 0.009593456251593097, 'ላይ': 0.009493560681103644, 'ሌሊቱን': 0.007389925919546713, 'እንደሚሰማዎት': 0.007016531633523332, 'እንዲሰማኝ': 0.006820540689527313, 'ስሜት': 0.006538004273513883}\n----------------------------------------\nAttention values for first layer, first head, first token:\ntensor([0.0217, 0.0128, 0.0741, 0.0243, 0.0204, 0.0459, 0.1568, 0.0092, 0.0457,\n        0.0282, 0.0208, 0.0307, 0.0812, 0.0221, 0.3196, 0.0254, 0.0611],\n       device='cuda:0', grad_fn=<SelectBackward0>)\n========================================\ncuda:0\nExplanation for sample 1:\n{'መጠበቅ': 0.01758449425540299, 'ሀሳብ': -0.016153033188696674, 'ልብስ': 0.015898341587198418, 'ዱርዬ': 0.014377052211518054, 'አልችልም': 0.014112084649740335, 'ለብሰሽ': 0.010460182739149547, 'ያለሽ': 0.008864170992080847, 'ገፋፋኝ': 0.008846646069678023, 'ለማየት': 0.008113614010493892, 'ያንቺ': 0.0075058755059680725}\n----------------------------------------\nAttention values for first layer, first head, first token:\ntensor([0.0222, 0.0201, 0.0581, 0.0105, 0.0348, 0.0065, 0.1106, 0.0296, 0.0133,\n        0.3063, 0.1197, 0.0413, 0.0244, 0.0993, 0.0446, 0.0586],\n       device='cuda:0', grad_fn=<SelectBackward0>)\n========================================\ncuda:0\nExplanation for sample 2:\n{'መንገድ': 0.036932989852210156, 'እንድፈልግ': 0.02882627009720589, 'ያደርገኛል': 0.026576673803625182, 'ወድጄዋለሁ': 0.026355685017411225, 'ለማድረግ': 0.022602289639884504, 'ነገሮች': 0.02192523305985341, 'በሹክሹክታ': 0.01911543262271397, 'የምትናገሩበትን': -0.013455321118588576, 'ስሜን': 0.010874939431349063, 'የሚያቃስቱዎትን': 0.00753631346991976}\n----------------------------------------\nAttention values for first layer, first head, first token:\ntensor([0.0189, 0.0191, 0.0413, 0.0057, 0.0610, 0.0200, 0.0862, 0.0713, 0.0171,\n        0.1186, 0.0355, 0.1686, 0.0798, 0.0211, 0.0959, 0.0947, 0.0087, 0.0365],\n       device='cuda:0', grad_fn=<SelectBackward0>)\n========================================\ncuda:0\nExplanation for sample 3:\n{'ባየሁህ': 0.15034363615745444, 'ቁጥር': 0.1257602089531763, 'አያቅተኝም': 0.10152540756602074, 'የምንችለውን': -0.040976546362276586, 'ባለጌ': 0.028062147939147426, 'ልንሰራው': -0.012270752237427424, 'ነገር': -0.010862362742032027, 'አብረን': 0.004376394295768212, 'መገመት': 0.003523103672420382, 'ሁሉንም': 0.00019614763222123105}\n----------------------------------------\nAttention values for first layer, first head, first token:\ntensor([0.0324, 0.1176, 0.0097, 0.0319, 0.0127, 0.1864, 0.0275, 0.0483, 0.0384,\n        0.2394, 0.0560, 0.0285, 0.0159, 0.0242, 0.1313], device='cuda:0',\n       grad_fn=<SelectBackward0>)\n========================================\ncuda:0\nExplanation for sample 4:\n{'እፈልጋለሁ': 0.0637356419506977, 'ኢንች': 0.058784908961067486, 'ማሰስ': 0.053633873915136514, 'እያንዳንዳችሁን': -0.023886358507744187, 'የማይቋቋሙት': -0.023471074816327406, 'ሁለታችንም': -0.019423222672100986, 'በጣም': 0.01736831301266758, 'ልንወስደው': 0.011135660849288348, 'ድረስ': 0.009911812628124832, 'ከእንግዲህ': 0.006327949765955841}\n----------------------------------------\nAttention values for first layer, first head, first token:\ntensor([0.0236, 0.0587, 0.0513, 0.0138, 0.0275, 0.0216, 0.0965, 0.0774, 0.0551,\n        0.1063, 0.1964, 0.0259, 0.0683, 0.0158, 0.0673, 0.0277, 0.0666],\n       device='cuda:0', grad_fn=<SelectBackward0>)\n========================================\ncuda:0\nExplanation for sample 5:\n{'አስደናቂ': 0.018186491252342354, 'ባየሁህ': 0.016728953507873776, 'ተፅእኖ': 0.01498435556333177, 'አለህ': 0.014291463463178514, 'ላይ': 0.01384360908285754, 'በእኔ': 0.01201249976247445, 'ጊዜ': 0.008018768134867583, 'የእኔ': 0.007052815797624153, 'ሁልጊዜ': 0.00576887523740631, 'ቀን': 0.00532026243686242}\n----------------------------------------\nAttention values for first layer, first head, first token:\ntensor([0.0193, 0.0650, 0.0819, 0.0049, 0.0150, 0.0066, 0.0632, 0.0073, 0.0053,\n        0.2252, 0.0161, 0.0514, 0.0068, 0.0885, 0.1039, 0.0350, 0.1675, 0.0373],\n       device='cuda:0', grad_fn=<SelectBackward0>)\n========================================\ncuda:0\nExplanation for sample 6:\n{'ፈገግታ': 0.10234036480784302, 'ክፍሉን': 0.09223180396810833, 'በጣም': 0.07474358945271335, 'የሚያምር': 0.042304261199467064, 'ያበራል': 0.02791656739215041, 'አለህ': -0.010906380452892184, 'በሙሉ': 0.004119880205798691}\n----------------------------------------\nAttention values for first layer, first head, first token:\ntensor([0.0413, 0.1027, 0.0614, 0.0399, 0.0872, 0.0115, 0.1457, 0.3544, 0.1559],\n       device='cuda:0', grad_fn=<SelectBackward0>)\n========================================\ncuda:0\nExplanation for sample 7:\n{'ወድጄዋለሁ': 0.0408288755881518, 'እንድፈልግ': 0.03862960514124874, 'መንገድ': 0.03535964954182956, 'ያደርገኛል': 0.0347592492813312, 'የምትስቁበትን': 0.026033141085039666, 'አብሬ': 0.02451253611562454, 'መሳቅ': 0.021403749155689038, 'እና': 0.01972167931474344, 'ነው': -0.013998132223546862, 'ተላላፊ': 0.010666907532392285}\n----------------------------------------\nAttention values for first layer, first head, first token:\ntensor([0.0196, 0.1138, 0.0142, 0.0168, 0.0838, 0.0640, 0.0362, 0.0169, 0.0377,\n        0.0200, 0.3183, 0.0726, 0.0963, 0.0104, 0.0794], device='cuda:0',\n       grad_fn=<SelectBackward0>)\n========================================\ncuda:0\nExplanation for sample 8:\n{'ንጹህ': 0.06805945678095641, 'ስሜት': 0.06430249218218244, 'ነዎት': 0.05322402302070186, 'የሚያድስ': 0.044856818576384766, 'በዙሪያዎ': 0.04349172714332288, 'ይሰማዎታል': 0.041344026157765786, 'መሆን': -0.03864089551304705, 'እስትንፋስ': 0.022662185878235975, 'እንደ': 0.01564147278678061, 'አየር': -0.015453946117207431}\n----------------------------------------\nAttention values for first layer, first head, first token:\ntensor([0.0137, 0.1229, 0.1216, 0.0682, 0.0206, 0.1279, 0.2596, 0.0284, 0.0211,\n        0.0433, 0.0419, 0.0755, 0.0060, 0.0494], device='cuda:0',\n       grad_fn=<SelectBackward0>)\n========================================\ncuda:0\nExplanation for sample 9:\n{'አልችልም': 0.08921482788655483, 'እንደምታስደስት': 0.08177434718840802, 'ታውቃለህ': 0.07038244342411329, 'ልቤን': 0.05462332775883571, 'ጊዜ': 0.04653032668897243, 'አንተ': 0.046252331518053046, 'ማድረግ': 0.03761393276116, 'ስለ': 0.031316496935782416, 'በቀር': 0.026331092407919404, 'ፈገግ': 0.023608589953813052}\n----------------------------------------\nAttention values for first layer, first head, first token:\ntensor([0.0181, 0.0384, 0.0789, 0.0050, 0.0141, 0.0177, 0.0497, 0.1963, 0.0620,\n        0.0193, 0.0405, 0.1197, 0.0550, 0.0783, 0.0195, 0.0060, 0.0148, 0.1143,\n        0.0524], device='cuda:0', grad_fn=<SelectBackward0>)\n========================================\n",
          "output_type": "stream"
        }
      ],
      "execution_count": null
    },
    {
      "cell_type": "code",
      "source": [
        "import matplotlib.pyplot as plt\n",
        "from sklearn.metrics import ConfusionMatrixDisplay\n",
        "disp = ConfusionMatrixDisplay(confusion_matrix=cm)\n",
        "disp.plot()\n",
        "plt.show()"
      ],
      "metadata": {
        "trusted": true,
        "execution": {
          "iopub.status.busy": "2025-04-03T11:10:24.524483Z",
          "iopub.execute_input": "2025-04-03T11:10:24.524865Z",
          "iopub.status.idle": "2025-04-03T11:10:24.672974Z",
          "shell.execute_reply.started": "2025-04-03T11:10:24.524837Z",
          "shell.execute_reply": "2025-04-03T11:10:24.672266Z"
        },
        "id": "ueW3kwFTbRN7",
        "outputId": "24883cc2-47fe-4a43-8c82-fb3aab861aa1"
      },
      "outputs": [
        {
          "output_type": "display_data",
          "data": {
            "text/plain": "<Figure size 640x480 with 2 Axes>",
            "image/png": "[encoded data removed]"
          },
          "metadata": {}
        }
      ],
      "execution_count": null
    },
    {
      "cell_type": "code",
      "source": [
        "# prenting each values of the metriics used\n",
        "from sklearn.metrics import accuracy_score, precision_score, recall_score,f1_score\n",
        "print(accuracy_score(true_labels, predicted_labels))\n",
        "print(precision_score(true_labels, predicted_labels))\n",
        "print(recall_score(true_labels, predicted_labels))\n",
        "print(f1_score(true_labels, predicted_labels))"
      ],
      "metadata": {
        "trusted": true,
        "execution": {
          "iopub.status.busy": "2025-04-03T11:26:45.15847Z",
          "iopub.execute_input": "2025-04-03T11:26:45.158833Z",
          "iopub.status.idle": "2025-04-03T11:26:45.172236Z",
          "shell.execute_reply.started": "2025-04-03T11:26:45.158806Z",
          "shell.execute_reply": "2025-04-03T11:26:45.171322Z"
        },
        "id": "RwOVmqHCbRN8",
        "outputId": "7e1cc8a1-7ff6-4a17-de39-ef2a77ef7681"
      },
      "outputs": [
        {
          "name": "stdout",
          "text": "0.9392201834862385\n0.9411764705882353\n0.9334119033588686\n0.9372781065088757\n",
          "output_type": "stream"
        }
      ],
      "execution_count": null
    }
  ]
}